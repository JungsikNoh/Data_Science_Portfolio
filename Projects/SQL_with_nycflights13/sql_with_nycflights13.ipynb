{
 "cells": [
  {
   "cell_type": "markdown",
   "id": "1571aae7",
   "metadata": {},
   "source": [
    "# SQL with nycflights13 data"
   ]
  },
  {
   "cell_type": "markdown",
   "id": "f9c5f450",
   "metadata": {},
   "source": [
    "'nycflights13' is a relational database with airline on-time data for all flights departing NYC in 2013 as well as related tables of airlines, airports, planes and weather.\n",
    "\n",
    "In this notebook, I perform an exploratory and descriptive analysis mainly looking into how the departure delay time of each flight is related to other variables. In specific, the following questions are asked:\n",
    "- Which airlines are dominant at each origin airport?\n",
    "- Top 10 days with the largest number of flights\n",
    "- Is the departure delay time varying across airlines?\n",
    "- What is the relation between the departure delay time and weather factors?\n"
   ]
  },
  {
   "cell_type": "code",
   "execution_count": 8,
   "id": "b9df638f",
   "metadata": {},
   "outputs": [],
   "source": [
    "import sqlite3\n",
    "import pandas as pd\n",
    "import plotly.express as px"
   ]
  },
  {
   "cell_type": "code",
   "execution_count": 10,
   "id": "02432888",
   "metadata": {},
   "outputs": [
    {
     "data": {
      "text/html": [
       "<div>\n",
       "<style scoped>\n",
       "    .dataframe tbody tr th:only-of-type {\n",
       "        vertical-align: middle;\n",
       "    }\n",
       "\n",
       "    .dataframe tbody tr th {\n",
       "        vertical-align: top;\n",
       "    }\n",
       "\n",
       "    .dataframe thead th {\n",
       "        text-align: right;\n",
       "    }\n",
       "</style>\n",
       "<table border=\"1\" class=\"dataframe\">\n",
       "  <thead>\n",
       "    <tr style=\"text-align: right;\">\n",
       "      <th></th>\n",
       "      <th>type</th>\n",
       "      <th>name</th>\n",
       "      <th>tbl_name</th>\n",
       "      <th>rootpage</th>\n",
       "      <th>sql</th>\n",
       "    </tr>\n",
       "  </thead>\n",
       "  <tbody>\n",
       "    <tr>\n",
       "      <th>0</th>\n",
       "      <td>table</td>\n",
       "      <td>airlines</td>\n",
       "      <td>airlines</td>\n",
       "      <td>2</td>\n",
       "      <td>CREATE TABLE \"airlines\" (\\n\\t\"carrier\"\\tTEXT,\\...</td>\n",
       "    </tr>\n",
       "    <tr>\n",
       "      <th>1</th>\n",
       "      <td>table</td>\n",
       "      <td>airports</td>\n",
       "      <td>airports</td>\n",
       "      <td>5</td>\n",
       "      <td>CREATE TABLE \"airports\" (\\n\\t\"faa\"\\tTEXT,\\n\\t\"...</td>\n",
       "    </tr>\n",
       "    <tr>\n",
       "      <th>2</th>\n",
       "      <td>table</td>\n",
       "      <td>flights</td>\n",
       "      <td>flights</td>\n",
       "      <td>13</td>\n",
       "      <td>CREATE TABLE \"flights\" (\\n\\t\"ID\"\\tINTEGER,\\n\\t...</td>\n",
       "    </tr>\n",
       "    <tr>\n",
       "      <th>3</th>\n",
       "      <td>table</td>\n",
       "      <td>planes</td>\n",
       "      <td>planes</td>\n",
       "      <td>602</td>\n",
       "      <td>CREATE TABLE \"planes\" (\\n\\t\"tailnum\"\\tTEXT,\\n\\...</td>\n",
       "    </tr>\n",
       "    <tr>\n",
       "      <th>4</th>\n",
       "      <td>table</td>\n",
       "      <td>weather</td>\n",
       "      <td>weather</td>\n",
       "      <td>6725</td>\n",
       "      <td>CREATE TABLE \"weather\" (\\n\\t\"field1\"\\tINTEGER,...</td>\n",
       "    </tr>\n",
       "  </tbody>\n",
       "</table>\n",
       "</div>"
      ],
      "text/plain": [
       "    type      name  tbl_name  rootpage  \\\n",
       "0  table  airlines  airlines         2   \n",
       "1  table  airports  airports         5   \n",
       "2  table   flights   flights        13   \n",
       "3  table    planes    planes       602   \n",
       "4  table   weather   weather      6725   \n",
       "\n",
       "                                                 sql  \n",
       "0  CREATE TABLE \"airlines\" (\\n\\t\"carrier\"\\tTEXT,\\...  \n",
       "1  CREATE TABLE \"airports\" (\\n\\t\"faa\"\\tTEXT,\\n\\t\"...  \n",
       "2  CREATE TABLE \"flights\" (\\n\\t\"ID\"\\tINTEGER,\\n\\t...  \n",
       "3  CREATE TABLE \"planes\" (\\n\\t\"tailnum\"\\tTEXT,\\n\\...  \n",
       "4  CREATE TABLE \"weather\" (\\n\\t\"field1\"\\tINTEGER,...  "
      ]
     },
     "execution_count": 10,
     "metadata": {},
     "output_type": "execute_result"
    }
   ],
   "source": [
    "# Connect to the db file in the current directory and list all the tables\n",
    "\n",
    "conn = sqlite3.connect('nycflights13.db')\n",
    "q = '''\n",
    "SELECT * FROM sqlite_master WHERE type='table'\n",
    "'''\n",
    "pd.read_sql_query(q, conn)"
   ]
  },
  {
   "cell_type": "markdown",
   "id": "8d91a48f",
   "metadata": {},
   "source": [
    "- List of 16 airlines in the dataset"
   ]
  },
  {
   "cell_type": "code",
   "execution_count": 11,
   "id": "68cfe750",
   "metadata": {
    "scrolled": true
   },
   "outputs": [
    {
     "data": {
      "text/html": [
       "<div>\n",
       "<style scoped>\n",
       "    .dataframe tbody tr th:only-of-type {\n",
       "        vertical-align: middle;\n",
       "    }\n",
       "\n",
       "    .dataframe tbody tr th {\n",
       "        vertical-align: top;\n",
       "    }\n",
       "\n",
       "    .dataframe thead th {\n",
       "        text-align: right;\n",
       "    }\n",
       "</style>\n",
       "<table border=\"1\" class=\"dataframe\">\n",
       "  <thead>\n",
       "    <tr style=\"text-align: right;\">\n",
       "      <th></th>\n",
       "      <th>carrier</th>\n",
       "      <th>name</th>\n",
       "    </tr>\n",
       "  </thead>\n",
       "  <tbody>\n",
       "    <tr>\n",
       "      <th>0</th>\n",
       "      <td>9E</td>\n",
       "      <td>Endeavor Air Inc.</td>\n",
       "    </tr>\n",
       "    <tr>\n",
       "      <th>1</th>\n",
       "      <td>AA</td>\n",
       "      <td>American Airlines Inc.</td>\n",
       "    </tr>\n",
       "    <tr>\n",
       "      <th>2</th>\n",
       "      <td>AS</td>\n",
       "      <td>Alaska Airlines Inc.</td>\n",
       "    </tr>\n",
       "    <tr>\n",
       "      <th>3</th>\n",
       "      <td>B6</td>\n",
       "      <td>JetBlue Airways</td>\n",
       "    </tr>\n",
       "    <tr>\n",
       "      <th>4</th>\n",
       "      <td>DL</td>\n",
       "      <td>Delta Air Lines Inc.</td>\n",
       "    </tr>\n",
       "    <tr>\n",
       "      <th>5</th>\n",
       "      <td>EV</td>\n",
       "      <td>ExpressJet Airlines Inc.</td>\n",
       "    </tr>\n",
       "    <tr>\n",
       "      <th>6</th>\n",
       "      <td>F9</td>\n",
       "      <td>Frontier Airlines Inc.</td>\n",
       "    </tr>\n",
       "    <tr>\n",
       "      <th>7</th>\n",
       "      <td>FL</td>\n",
       "      <td>AirTran Airways Corporation</td>\n",
       "    </tr>\n",
       "    <tr>\n",
       "      <th>8</th>\n",
       "      <td>HA</td>\n",
       "      <td>Hawaiian Airlines Inc.</td>\n",
       "    </tr>\n",
       "    <tr>\n",
       "      <th>9</th>\n",
       "      <td>MQ</td>\n",
       "      <td>Envoy Air</td>\n",
       "    </tr>\n",
       "    <tr>\n",
       "      <th>10</th>\n",
       "      <td>OO</td>\n",
       "      <td>SkyWest Airlines Inc.</td>\n",
       "    </tr>\n",
       "    <tr>\n",
       "      <th>11</th>\n",
       "      <td>UA</td>\n",
       "      <td>United Air Lines Inc.</td>\n",
       "    </tr>\n",
       "    <tr>\n",
       "      <th>12</th>\n",
       "      <td>US</td>\n",
       "      <td>US Airways Inc.</td>\n",
       "    </tr>\n",
       "    <tr>\n",
       "      <th>13</th>\n",
       "      <td>VX</td>\n",
       "      <td>Virgin America</td>\n",
       "    </tr>\n",
       "    <tr>\n",
       "      <th>14</th>\n",
       "      <td>WN</td>\n",
       "      <td>Southwest Airlines Co.</td>\n",
       "    </tr>\n",
       "    <tr>\n",
       "      <th>15</th>\n",
       "      <td>YV</td>\n",
       "      <td>Mesa Airlines Inc.</td>\n",
       "    </tr>\n",
       "  </tbody>\n",
       "</table>\n",
       "</div>"
      ],
      "text/plain": [
       "   carrier                         name\n",
       "0       9E            Endeavor Air Inc.\n",
       "1       AA       American Airlines Inc.\n",
       "2       AS         Alaska Airlines Inc.\n",
       "3       B6              JetBlue Airways\n",
       "4       DL         Delta Air Lines Inc.\n",
       "5       EV     ExpressJet Airlines Inc.\n",
       "6       F9       Frontier Airlines Inc.\n",
       "7       FL  AirTran Airways Corporation\n",
       "8       HA       Hawaiian Airlines Inc.\n",
       "9       MQ                    Envoy Air\n",
       "10      OO        SkyWest Airlines Inc.\n",
       "11      UA        United Air Lines Inc.\n",
       "12      US              US Airways Inc.\n",
       "13      VX               Virgin America\n",
       "14      WN       Southwest Airlines Co.\n",
       "15      YV           Mesa Airlines Inc."
      ]
     },
     "execution_count": 11,
     "metadata": {},
     "output_type": "execute_result"
    }
   ],
   "source": [
    "q = '''\n",
    "SELECT * FROM airlines\n",
    "'''\n",
    "pd.read_sql_query(q, conn)"
   ]
  },
  {
   "cell_type": "markdown",
   "id": "3097f96b",
   "metadata": {},
   "source": [
    "- 'flights' table with 336,776 filghts in 2013"
   ]
  },
  {
   "cell_type": "code",
   "execution_count": 13,
   "id": "6b812133",
   "metadata": {
    "scrolled": true
   },
   "outputs": [
    {
     "data": {
      "text/html": [
       "<div>\n",
       "<style scoped>\n",
       "    .dataframe tbody tr th:only-of-type {\n",
       "        vertical-align: middle;\n",
       "    }\n",
       "\n",
       "    .dataframe tbody tr th {\n",
       "        vertical-align: top;\n",
       "    }\n",
       "\n",
       "    .dataframe thead th {\n",
       "        text-align: right;\n",
       "    }\n",
       "</style>\n",
       "<table border=\"1\" class=\"dataframe\">\n",
       "  <thead>\n",
       "    <tr style=\"text-align: right;\">\n",
       "      <th></th>\n",
       "      <th>ID</th>\n",
       "      <th>year</th>\n",
       "      <th>month</th>\n",
       "      <th>day</th>\n",
       "      <th>dep_time</th>\n",
       "      <th>sched_dep_time</th>\n",
       "      <th>dep_delay</th>\n",
       "      <th>arr_time</th>\n",
       "      <th>sched_arr_time</th>\n",
       "      <th>arr_delay</th>\n",
       "      <th>carrier</th>\n",
       "      <th>flight</th>\n",
       "      <th>tailnum</th>\n",
       "      <th>origin</th>\n",
       "      <th>dest</th>\n",
       "      <th>air_time</th>\n",
       "      <th>distance</th>\n",
       "      <th>hour</th>\n",
       "      <th>minute</th>\n",
       "      <th>time_hour</th>\n",
       "    </tr>\n",
       "  </thead>\n",
       "  <tbody>\n",
       "    <tr>\n",
       "      <th>0</th>\n",
       "      <td>1</td>\n",
       "      <td>2013</td>\n",
       "      <td>1</td>\n",
       "      <td>1</td>\n",
       "      <td>517</td>\n",
       "      <td>515</td>\n",
       "      <td>2</td>\n",
       "      <td>830</td>\n",
       "      <td>819</td>\n",
       "      <td>11</td>\n",
       "      <td>UA</td>\n",
       "      <td>1545</td>\n",
       "      <td>N14228</td>\n",
       "      <td>EWR</td>\n",
       "      <td>IAH</td>\n",
       "      <td>227</td>\n",
       "      <td>1400</td>\n",
       "      <td>5</td>\n",
       "      <td>15</td>\n",
       "      <td>2013-01-01 05:00:00</td>\n",
       "    </tr>\n",
       "    <tr>\n",
       "      <th>1</th>\n",
       "      <td>2</td>\n",
       "      <td>2013</td>\n",
       "      <td>1</td>\n",
       "      <td>1</td>\n",
       "      <td>533</td>\n",
       "      <td>529</td>\n",
       "      <td>4</td>\n",
       "      <td>850</td>\n",
       "      <td>830</td>\n",
       "      <td>20</td>\n",
       "      <td>UA</td>\n",
       "      <td>1714</td>\n",
       "      <td>N24211</td>\n",
       "      <td>LGA</td>\n",
       "      <td>IAH</td>\n",
       "      <td>227</td>\n",
       "      <td>1416</td>\n",
       "      <td>5</td>\n",
       "      <td>29</td>\n",
       "      <td>2013-01-01 05:00:00</td>\n",
       "    </tr>\n",
       "    <tr>\n",
       "      <th>2</th>\n",
       "      <td>3</td>\n",
       "      <td>2013</td>\n",
       "      <td>1</td>\n",
       "      <td>1</td>\n",
       "      <td>542</td>\n",
       "      <td>540</td>\n",
       "      <td>2</td>\n",
       "      <td>923</td>\n",
       "      <td>850</td>\n",
       "      <td>33</td>\n",
       "      <td>AA</td>\n",
       "      <td>1141</td>\n",
       "      <td>N619AA</td>\n",
       "      <td>JFK</td>\n",
       "      <td>MIA</td>\n",
       "      <td>160</td>\n",
       "      <td>1089</td>\n",
       "      <td>5</td>\n",
       "      <td>40</td>\n",
       "      <td>2013-01-01 05:00:00</td>\n",
       "    </tr>\n",
       "    <tr>\n",
       "      <th>3</th>\n",
       "      <td>4</td>\n",
       "      <td>2013</td>\n",
       "      <td>1</td>\n",
       "      <td>1</td>\n",
       "      <td>544</td>\n",
       "      <td>545</td>\n",
       "      <td>-1</td>\n",
       "      <td>1004</td>\n",
       "      <td>1022</td>\n",
       "      <td>-18</td>\n",
       "      <td>B6</td>\n",
       "      <td>725</td>\n",
       "      <td>N804JB</td>\n",
       "      <td>JFK</td>\n",
       "      <td>BQN</td>\n",
       "      <td>183</td>\n",
       "      <td>1576</td>\n",
       "      <td>5</td>\n",
       "      <td>45</td>\n",
       "      <td>2013-01-01 05:00:00</td>\n",
       "    </tr>\n",
       "    <tr>\n",
       "      <th>4</th>\n",
       "      <td>5</td>\n",
       "      <td>2013</td>\n",
       "      <td>1</td>\n",
       "      <td>1</td>\n",
       "      <td>554</td>\n",
       "      <td>600</td>\n",
       "      <td>-6</td>\n",
       "      <td>812</td>\n",
       "      <td>837</td>\n",
       "      <td>-25</td>\n",
       "      <td>DL</td>\n",
       "      <td>461</td>\n",
       "      <td>N668DN</td>\n",
       "      <td>LGA</td>\n",
       "      <td>ATL</td>\n",
       "      <td>116</td>\n",
       "      <td>762</td>\n",
       "      <td>6</td>\n",
       "      <td>0</td>\n",
       "      <td>2013-01-01 06:00:00</td>\n",
       "    </tr>\n",
       "    <tr>\n",
       "      <th>...</th>\n",
       "      <td>...</td>\n",
       "      <td>...</td>\n",
       "      <td>...</td>\n",
       "      <td>...</td>\n",
       "      <td>...</td>\n",
       "      <td>...</td>\n",
       "      <td>...</td>\n",
       "      <td>...</td>\n",
       "      <td>...</td>\n",
       "      <td>...</td>\n",
       "      <td>...</td>\n",
       "      <td>...</td>\n",
       "      <td>...</td>\n",
       "      <td>...</td>\n",
       "      <td>...</td>\n",
       "      <td>...</td>\n",
       "      <td>...</td>\n",
       "      <td>...</td>\n",
       "      <td>...</td>\n",
       "      <td>...</td>\n",
       "    </tr>\n",
       "    <tr>\n",
       "      <th>336771</th>\n",
       "      <td>336772</td>\n",
       "      <td>2013</td>\n",
       "      <td>9</td>\n",
       "      <td>30</td>\n",
       "      <td>NA</td>\n",
       "      <td>1455</td>\n",
       "      <td>NA</td>\n",
       "      <td>NA</td>\n",
       "      <td>1634</td>\n",
       "      <td>NA</td>\n",
       "      <td>9E</td>\n",
       "      <td>3393</td>\n",
       "      <td>NA</td>\n",
       "      <td>JFK</td>\n",
       "      <td>DCA</td>\n",
       "      <td>NA</td>\n",
       "      <td>213</td>\n",
       "      <td>14</td>\n",
       "      <td>55</td>\n",
       "      <td>2013-09-30 14:00:00</td>\n",
       "    </tr>\n",
       "    <tr>\n",
       "      <th>336772</th>\n",
       "      <td>336773</td>\n",
       "      <td>2013</td>\n",
       "      <td>9</td>\n",
       "      <td>30</td>\n",
       "      <td>NA</td>\n",
       "      <td>2200</td>\n",
       "      <td>NA</td>\n",
       "      <td>NA</td>\n",
       "      <td>2312</td>\n",
       "      <td>NA</td>\n",
       "      <td>9E</td>\n",
       "      <td>3525</td>\n",
       "      <td>NA</td>\n",
       "      <td>LGA</td>\n",
       "      <td>SYR</td>\n",
       "      <td>NA</td>\n",
       "      <td>198</td>\n",
       "      <td>22</td>\n",
       "      <td>0</td>\n",
       "      <td>2013-09-30 22:00:00</td>\n",
       "    </tr>\n",
       "    <tr>\n",
       "      <th>336773</th>\n",
       "      <td>336774</td>\n",
       "      <td>2013</td>\n",
       "      <td>9</td>\n",
       "      <td>30</td>\n",
       "      <td>NA</td>\n",
       "      <td>1210</td>\n",
       "      <td>NA</td>\n",
       "      <td>NA</td>\n",
       "      <td>1330</td>\n",
       "      <td>NA</td>\n",
       "      <td>MQ</td>\n",
       "      <td>3461</td>\n",
       "      <td>N535MQ</td>\n",
       "      <td>LGA</td>\n",
       "      <td>BNA</td>\n",
       "      <td>NA</td>\n",
       "      <td>764</td>\n",
       "      <td>12</td>\n",
       "      <td>10</td>\n",
       "      <td>2013-09-30 12:00:00</td>\n",
       "    </tr>\n",
       "    <tr>\n",
       "      <th>336774</th>\n",
       "      <td>336775</td>\n",
       "      <td>2013</td>\n",
       "      <td>9</td>\n",
       "      <td>30</td>\n",
       "      <td>NA</td>\n",
       "      <td>1159</td>\n",
       "      <td>NA</td>\n",
       "      <td>NA</td>\n",
       "      <td>1344</td>\n",
       "      <td>NA</td>\n",
       "      <td>MQ</td>\n",
       "      <td>3572</td>\n",
       "      <td>N511MQ</td>\n",
       "      <td>LGA</td>\n",
       "      <td>CLE</td>\n",
       "      <td>NA</td>\n",
       "      <td>419</td>\n",
       "      <td>11</td>\n",
       "      <td>59</td>\n",
       "      <td>2013-09-30 11:00:00</td>\n",
       "    </tr>\n",
       "    <tr>\n",
       "      <th>336775</th>\n",
       "      <td>336776</td>\n",
       "      <td>2013</td>\n",
       "      <td>9</td>\n",
       "      <td>30</td>\n",
       "      <td>NA</td>\n",
       "      <td>840</td>\n",
       "      <td>NA</td>\n",
       "      <td>NA</td>\n",
       "      <td>1020</td>\n",
       "      <td>NA</td>\n",
       "      <td>MQ</td>\n",
       "      <td>3531</td>\n",
       "      <td>N839MQ</td>\n",
       "      <td>LGA</td>\n",
       "      <td>RDU</td>\n",
       "      <td>NA</td>\n",
       "      <td>431</td>\n",
       "      <td>8</td>\n",
       "      <td>40</td>\n",
       "      <td>2013-09-30 08:00:00</td>\n",
       "    </tr>\n",
       "  </tbody>\n",
       "</table>\n",
       "<p>336776 rows × 20 columns</p>\n",
       "</div>"
      ],
      "text/plain": [
       "            ID  year  month  day dep_time  sched_dep_time dep_delay arr_time  \\\n",
       "0            1  2013      1    1      517             515         2      830   \n",
       "1            2  2013      1    1      533             529         4      850   \n",
       "2            3  2013      1    1      542             540         2      923   \n",
       "3            4  2013      1    1      544             545        -1     1004   \n",
       "4            5  2013      1    1      554             600        -6      812   \n",
       "...        ...   ...    ...  ...      ...             ...       ...      ...   \n",
       "336771  336772  2013      9   30       NA            1455        NA       NA   \n",
       "336772  336773  2013      9   30       NA            2200        NA       NA   \n",
       "336773  336774  2013      9   30       NA            1210        NA       NA   \n",
       "336774  336775  2013      9   30       NA            1159        NA       NA   \n",
       "336775  336776  2013      9   30       NA             840        NA       NA   \n",
       "\n",
       "        sched_arr_time arr_delay carrier  flight tailnum origin dest air_time  \\\n",
       "0                  819        11      UA    1545  N14228    EWR  IAH      227   \n",
       "1                  830        20      UA    1714  N24211    LGA  IAH      227   \n",
       "2                  850        33      AA    1141  N619AA    JFK  MIA      160   \n",
       "3                 1022       -18      B6     725  N804JB    JFK  BQN      183   \n",
       "4                  837       -25      DL     461  N668DN    LGA  ATL      116   \n",
       "...                ...       ...     ...     ...     ...    ...  ...      ...   \n",
       "336771            1634        NA      9E    3393      NA    JFK  DCA       NA   \n",
       "336772            2312        NA      9E    3525      NA    LGA  SYR       NA   \n",
       "336773            1330        NA      MQ    3461  N535MQ    LGA  BNA       NA   \n",
       "336774            1344        NA      MQ    3572  N511MQ    LGA  CLE       NA   \n",
       "336775            1020        NA      MQ    3531  N839MQ    LGA  RDU       NA   \n",
       "\n",
       "        distance  hour  minute            time_hour  \n",
       "0           1400     5      15  2013-01-01 05:00:00  \n",
       "1           1416     5      29  2013-01-01 05:00:00  \n",
       "2           1089     5      40  2013-01-01 05:00:00  \n",
       "3           1576     5      45  2013-01-01 05:00:00  \n",
       "4            762     6       0  2013-01-01 06:00:00  \n",
       "...          ...   ...     ...                  ...  \n",
       "336771       213    14      55  2013-09-30 14:00:00  \n",
       "336772       198    22       0  2013-09-30 22:00:00  \n",
       "336773       764    12      10  2013-09-30 12:00:00  \n",
       "336774       419    11      59  2013-09-30 11:00:00  \n",
       "336775       431     8      40  2013-09-30 08:00:00  \n",
       "\n",
       "[336776 rows x 20 columns]"
      ]
     },
     "execution_count": 13,
     "metadata": {},
     "output_type": "execute_result"
    }
   ],
   "source": [
    "q = '''\n",
    "SELECT * FROM flights\n",
    "'''\n",
    "pd.read_sql_query(q, conn)"
   ]
  },
  {
   "cell_type": "markdown",
   "id": "102e8c08",
   "metadata": {},
   "source": [
    "- Total numbers of flights for three origin airports\n",
    "- The flights numbers are not biased to one or two origin airports. "
   ]
  },
  {
   "cell_type": "code",
   "execution_count": 15,
   "id": "53404c6a",
   "metadata": {},
   "outputs": [
    {
     "data": {
      "text/html": [
       "<div>\n",
       "<style scoped>\n",
       "    .dataframe tbody tr th:only-of-type {\n",
       "        vertical-align: middle;\n",
       "    }\n",
       "\n",
       "    .dataframe tbody tr th {\n",
       "        vertical-align: top;\n",
       "    }\n",
       "\n",
       "    .dataframe thead th {\n",
       "        text-align: right;\n",
       "    }\n",
       "</style>\n",
       "<table border=\"1\" class=\"dataframe\">\n",
       "  <thead>\n",
       "    <tr style=\"text-align: right;\">\n",
       "      <th></th>\n",
       "      <th>origin</th>\n",
       "      <th>countFlights</th>\n",
       "    </tr>\n",
       "  </thead>\n",
       "  <tbody>\n",
       "    <tr>\n",
       "      <th>0</th>\n",
       "      <td>EWR</td>\n",
       "      <td>120835</td>\n",
       "    </tr>\n",
       "    <tr>\n",
       "      <th>1</th>\n",
       "      <td>JFK</td>\n",
       "      <td>111279</td>\n",
       "    </tr>\n",
       "    <tr>\n",
       "      <th>2</th>\n",
       "      <td>LGA</td>\n",
       "      <td>104662</td>\n",
       "    </tr>\n",
       "  </tbody>\n",
       "</table>\n",
       "</div>"
      ],
      "text/plain": [
       "  origin  countFlights\n",
       "0    EWR        120835\n",
       "1    JFK        111279\n",
       "2    LGA        104662"
      ]
     },
     "execution_count": 15,
     "metadata": {},
     "output_type": "execute_result"
    }
   ],
   "source": [
    "q = '''\n",
    "SELECT origin, count(*) as countFlights\n",
    "FROM flights\n",
    "GROUP BY origin\n",
    "'''\n",
    "pd.read_sql_query(q, conn)"
   ]
  },
  {
   "cell_type": "markdown",
   "id": "296f70de",
   "metadata": {},
   "source": [
    "## 1. Which airlines are dominant at each origin airport?\n",
    "\n",
    "#### Departure from EWR\n",
    "- United Air Lines (UA, 38%) and ExpressJet Airlines (EV, 36%) compose 74.5% of all departures from EWR."
   ]
  },
  {
   "cell_type": "code",
   "execution_count": 17,
   "id": "ab792903",
   "metadata": {
    "scrolled": true
   },
   "outputs": [
    {
     "data": {
      "text/html": [
       "<div>\n",
       "<style scoped>\n",
       "    .dataframe tbody tr th:only-of-type {\n",
       "        vertical-align: middle;\n",
       "    }\n",
       "\n",
       "    .dataframe tbody tr th {\n",
       "        vertical-align: top;\n",
       "    }\n",
       "\n",
       "    .dataframe thead th {\n",
       "        text-align: right;\n",
       "    }\n",
       "</style>\n",
       "<table border=\"1\" class=\"dataframe\">\n",
       "  <thead>\n",
       "    <tr style=\"text-align: right;\">\n",
       "      <th></th>\n",
       "      <th>origin</th>\n",
       "      <th>carrier</th>\n",
       "      <th>airlines_name</th>\n",
       "      <th>countFlights</th>\n",
       "      <th>pctFlights</th>\n",
       "    </tr>\n",
       "  </thead>\n",
       "  <tbody>\n",
       "    <tr>\n",
       "      <th>0</th>\n",
       "      <td>EWR</td>\n",
       "      <td>UA</td>\n",
       "      <td>United Air Lines Inc.</td>\n",
       "      <td>46087</td>\n",
       "      <td>38.14</td>\n",
       "    </tr>\n",
       "    <tr>\n",
       "      <th>1</th>\n",
       "      <td>EWR</td>\n",
       "      <td>EV</td>\n",
       "      <td>ExpressJet Airlines Inc.</td>\n",
       "      <td>43939</td>\n",
       "      <td>36.36</td>\n",
       "    </tr>\n",
       "    <tr>\n",
       "      <th>2</th>\n",
       "      <td>EWR</td>\n",
       "      <td>B6</td>\n",
       "      <td>JetBlue Airways</td>\n",
       "      <td>6557</td>\n",
       "      <td>5.43</td>\n",
       "    </tr>\n",
       "    <tr>\n",
       "      <th>3</th>\n",
       "      <td>EWR</td>\n",
       "      <td>WN</td>\n",
       "      <td>Southwest Airlines Co.</td>\n",
       "      <td>6188</td>\n",
       "      <td>5.12</td>\n",
       "    </tr>\n",
       "    <tr>\n",
       "      <th>4</th>\n",
       "      <td>EWR</td>\n",
       "      <td>US</td>\n",
       "      <td>US Airways Inc.</td>\n",
       "      <td>4405</td>\n",
       "      <td>3.65</td>\n",
       "    </tr>\n",
       "    <tr>\n",
       "      <th>5</th>\n",
       "      <td>EWR</td>\n",
       "      <td>DL</td>\n",
       "      <td>Delta Air Lines Inc.</td>\n",
       "      <td>4342</td>\n",
       "      <td>3.59</td>\n",
       "    </tr>\n",
       "    <tr>\n",
       "      <th>6</th>\n",
       "      <td>EWR</td>\n",
       "      <td>AA</td>\n",
       "      <td>American Airlines Inc.</td>\n",
       "      <td>3487</td>\n",
       "      <td>2.89</td>\n",
       "    </tr>\n",
       "    <tr>\n",
       "      <th>7</th>\n",
       "      <td>EWR</td>\n",
       "      <td>MQ</td>\n",
       "      <td>Envoy Air</td>\n",
       "      <td>2276</td>\n",
       "      <td>1.88</td>\n",
       "    </tr>\n",
       "    <tr>\n",
       "      <th>8</th>\n",
       "      <td>EWR</td>\n",
       "      <td>VX</td>\n",
       "      <td>Virgin America</td>\n",
       "      <td>1566</td>\n",
       "      <td>1.30</td>\n",
       "    </tr>\n",
       "    <tr>\n",
       "      <th>9</th>\n",
       "      <td>EWR</td>\n",
       "      <td>9E</td>\n",
       "      <td>Endeavor Air Inc.</td>\n",
       "      <td>1268</td>\n",
       "      <td>1.05</td>\n",
       "    </tr>\n",
       "    <tr>\n",
       "      <th>10</th>\n",
       "      <td>EWR</td>\n",
       "      <td>AS</td>\n",
       "      <td>Alaska Airlines Inc.</td>\n",
       "      <td>714</td>\n",
       "      <td>0.59</td>\n",
       "    </tr>\n",
       "    <tr>\n",
       "      <th>11</th>\n",
       "      <td>EWR</td>\n",
       "      <td>OO</td>\n",
       "      <td>SkyWest Airlines Inc.</td>\n",
       "      <td>6</td>\n",
       "      <td>0.00</td>\n",
       "    </tr>\n",
       "  </tbody>\n",
       "</table>\n",
       "</div>"
      ],
      "text/plain": [
       "   origin carrier             airlines_name  countFlights  pctFlights\n",
       "0     EWR      UA     United Air Lines Inc.         46087       38.14\n",
       "1     EWR      EV  ExpressJet Airlines Inc.         43939       36.36\n",
       "2     EWR      B6           JetBlue Airways          6557        5.43\n",
       "3     EWR      WN    Southwest Airlines Co.          6188        5.12\n",
       "4     EWR      US           US Airways Inc.          4405        3.65\n",
       "5     EWR      DL      Delta Air Lines Inc.          4342        3.59\n",
       "6     EWR      AA    American Airlines Inc.          3487        2.89\n",
       "7     EWR      MQ                 Envoy Air          2276        1.88\n",
       "8     EWR      VX            Virgin America          1566        1.30\n",
       "9     EWR      9E         Endeavor Air Inc.          1268        1.05\n",
       "10    EWR      AS      Alaska Airlines Inc.           714        0.59\n",
       "11    EWR      OO     SkyWest Airlines Inc.             6        0.00"
      ]
     },
     "execution_count": 17,
     "metadata": {},
     "output_type": "execute_result"
    }
   ],
   "source": [
    "# Number/percentage of flights per airlines when the origin airport is EWR\n",
    "q = '''\n",
    "SELECT  f.origin, \n",
    "        f.carrier, \n",
    "        a.name as airlines_name,\n",
    "        count(*) as countFlights, \n",
    "        round(( cast(COUNT(*) as REAL) / (SELECT count(*) FROM flights WHERE origin = 'EWR') )*100, 2) as pctFlights\n",
    "FROM flights as f\n",
    "INNER JOIN airlines as a\n",
    "ON f.carrier = a.carrier\n",
    "WHERE origin = 'EWR'\n",
    "GROUP BY f.carrier \n",
    "ORDER BY pctFlights DESC\n",
    "'''\n",
    "pd.read_sql_query(q, conn)"
   ]
  },
  {
   "cell_type": "markdown",
   "id": "a08be3ea",
   "metadata": {},
   "source": [
    "#### Departure from JFK\n",
    "- JetBlue Airways (B6, 38%) and Delta Air Lines (DL, 19%) compose 56.4% of all departures from JFK."
   ]
  },
  {
   "cell_type": "code",
   "execution_count": 18,
   "id": "3e6d53a2",
   "metadata": {
    "scrolled": true
   },
   "outputs": [
    {
     "data": {
      "text/html": [
       "<div>\n",
       "<style scoped>\n",
       "    .dataframe tbody tr th:only-of-type {\n",
       "        vertical-align: middle;\n",
       "    }\n",
       "\n",
       "    .dataframe tbody tr th {\n",
       "        vertical-align: top;\n",
       "    }\n",
       "\n",
       "    .dataframe thead th {\n",
       "        text-align: right;\n",
       "    }\n",
       "</style>\n",
       "<table border=\"1\" class=\"dataframe\">\n",
       "  <thead>\n",
       "    <tr style=\"text-align: right;\">\n",
       "      <th></th>\n",
       "      <th>origin</th>\n",
       "      <th>carrier</th>\n",
       "      <th>airlines_name</th>\n",
       "      <th>countFlights</th>\n",
       "      <th>pctFlights</th>\n",
       "    </tr>\n",
       "  </thead>\n",
       "  <tbody>\n",
       "    <tr>\n",
       "      <th>0</th>\n",
       "      <td>JFK</td>\n",
       "      <td>B6</td>\n",
       "      <td>JetBlue Airways</td>\n",
       "      <td>42076</td>\n",
       "      <td>37.81</td>\n",
       "    </tr>\n",
       "    <tr>\n",
       "      <th>1</th>\n",
       "      <td>JFK</td>\n",
       "      <td>DL</td>\n",
       "      <td>Delta Air Lines Inc.</td>\n",
       "      <td>20701</td>\n",
       "      <td>18.60</td>\n",
       "    </tr>\n",
       "    <tr>\n",
       "      <th>2</th>\n",
       "      <td>JFK</td>\n",
       "      <td>9E</td>\n",
       "      <td>Endeavor Air Inc.</td>\n",
       "      <td>14651</td>\n",
       "      <td>13.17</td>\n",
       "    </tr>\n",
       "    <tr>\n",
       "      <th>3</th>\n",
       "      <td>JFK</td>\n",
       "      <td>AA</td>\n",
       "      <td>American Airlines Inc.</td>\n",
       "      <td>13783</td>\n",
       "      <td>12.39</td>\n",
       "    </tr>\n",
       "    <tr>\n",
       "      <th>4</th>\n",
       "      <td>JFK</td>\n",
       "      <td>MQ</td>\n",
       "      <td>Envoy Air</td>\n",
       "      <td>7193</td>\n",
       "      <td>6.46</td>\n",
       "    </tr>\n",
       "    <tr>\n",
       "      <th>5</th>\n",
       "      <td>JFK</td>\n",
       "      <td>UA</td>\n",
       "      <td>United Air Lines Inc.</td>\n",
       "      <td>4534</td>\n",
       "      <td>4.07</td>\n",
       "    </tr>\n",
       "    <tr>\n",
       "      <th>6</th>\n",
       "      <td>JFK</td>\n",
       "      <td>VX</td>\n",
       "      <td>Virgin America</td>\n",
       "      <td>3596</td>\n",
       "      <td>3.23</td>\n",
       "    </tr>\n",
       "    <tr>\n",
       "      <th>7</th>\n",
       "      <td>JFK</td>\n",
       "      <td>US</td>\n",
       "      <td>US Airways Inc.</td>\n",
       "      <td>2995</td>\n",
       "      <td>2.69</td>\n",
       "    </tr>\n",
       "    <tr>\n",
       "      <th>8</th>\n",
       "      <td>JFK</td>\n",
       "      <td>EV</td>\n",
       "      <td>ExpressJet Airlines Inc.</td>\n",
       "      <td>1408</td>\n",
       "      <td>1.27</td>\n",
       "    </tr>\n",
       "    <tr>\n",
       "      <th>9</th>\n",
       "      <td>JFK</td>\n",
       "      <td>HA</td>\n",
       "      <td>Hawaiian Airlines Inc.</td>\n",
       "      <td>342</td>\n",
       "      <td>0.31</td>\n",
       "    </tr>\n",
       "  </tbody>\n",
       "</table>\n",
       "</div>"
      ],
      "text/plain": [
       "  origin carrier             airlines_name  countFlights  pctFlights\n",
       "0    JFK      B6           JetBlue Airways         42076       37.81\n",
       "1    JFK      DL      Delta Air Lines Inc.         20701       18.60\n",
       "2    JFK      9E         Endeavor Air Inc.         14651       13.17\n",
       "3    JFK      AA    American Airlines Inc.         13783       12.39\n",
       "4    JFK      MQ                 Envoy Air          7193        6.46\n",
       "5    JFK      UA     United Air Lines Inc.          4534        4.07\n",
       "6    JFK      VX            Virgin America          3596        3.23\n",
       "7    JFK      US           US Airways Inc.          2995        2.69\n",
       "8    JFK      EV  ExpressJet Airlines Inc.          1408        1.27\n",
       "9    JFK      HA    Hawaiian Airlines Inc.           342        0.31"
      ]
     },
     "execution_count": 18,
     "metadata": {},
     "output_type": "execute_result"
    }
   ],
   "source": [
    "# Number/percentage of flights per airlines when the origin airport is JFK\n",
    "q = '''\n",
    "SELECT  f.origin, \n",
    "        f.carrier, \n",
    "        a.name as airlines_name,\n",
    "        count(*) as countFlights, \n",
    "        round(( cast(COUNT(*) as REAL) / (SELECT count(*) FROM flights WHERE origin = 'JFK') )*100, 2) as pctFlights\n",
    "FROM flights as f\n",
    "INNER JOIN airlines as a\n",
    "ON f.carrier = a.carrier\n",
    "WHERE origin = 'JFK'\n",
    "GROUP BY f.carrier \n",
    "ORDER BY pctFlights DESC\n",
    "'''\n",
    "pd.read_sql_query(q, conn)"
   ]
  },
  {
   "cell_type": "markdown",
   "id": "c07e7a99",
   "metadata": {},
   "source": [
    "#### Departure from LGA\n",
    "- Delta Air Lines (DL), Envoy Air (MQ), American Airlines (AA) compose 53.0% of all departures from LGA."
   ]
  },
  {
   "cell_type": "code",
   "execution_count": 19,
   "id": "8ddd3fed",
   "metadata": {
    "scrolled": true
   },
   "outputs": [
    {
     "data": {
      "text/html": [
       "<div>\n",
       "<style scoped>\n",
       "    .dataframe tbody tr th:only-of-type {\n",
       "        vertical-align: middle;\n",
       "    }\n",
       "\n",
       "    .dataframe tbody tr th {\n",
       "        vertical-align: top;\n",
       "    }\n",
       "\n",
       "    .dataframe thead th {\n",
       "        text-align: right;\n",
       "    }\n",
       "</style>\n",
       "<table border=\"1\" class=\"dataframe\">\n",
       "  <thead>\n",
       "    <tr style=\"text-align: right;\">\n",
       "      <th></th>\n",
       "      <th>origin</th>\n",
       "      <th>carrier</th>\n",
       "      <th>airlines_name</th>\n",
       "      <th>countFlights</th>\n",
       "      <th>pctFlights</th>\n",
       "    </tr>\n",
       "  </thead>\n",
       "  <tbody>\n",
       "    <tr>\n",
       "      <th>0</th>\n",
       "      <td>LGA</td>\n",
       "      <td>DL</td>\n",
       "      <td>Delta Air Lines Inc.</td>\n",
       "      <td>23067</td>\n",
       "      <td>22.04</td>\n",
       "    </tr>\n",
       "    <tr>\n",
       "      <th>1</th>\n",
       "      <td>LGA</td>\n",
       "      <td>MQ</td>\n",
       "      <td>Envoy Air</td>\n",
       "      <td>16928</td>\n",
       "      <td>16.17</td>\n",
       "    </tr>\n",
       "    <tr>\n",
       "      <th>2</th>\n",
       "      <td>LGA</td>\n",
       "      <td>AA</td>\n",
       "      <td>American Airlines Inc.</td>\n",
       "      <td>15459</td>\n",
       "      <td>14.77</td>\n",
       "    </tr>\n",
       "    <tr>\n",
       "      <th>3</th>\n",
       "      <td>LGA</td>\n",
       "      <td>US</td>\n",
       "      <td>US Airways Inc.</td>\n",
       "      <td>13136</td>\n",
       "      <td>12.55</td>\n",
       "    </tr>\n",
       "    <tr>\n",
       "      <th>4</th>\n",
       "      <td>LGA</td>\n",
       "      <td>EV</td>\n",
       "      <td>ExpressJet Airlines Inc.</td>\n",
       "      <td>8826</td>\n",
       "      <td>8.43</td>\n",
       "    </tr>\n",
       "    <tr>\n",
       "      <th>5</th>\n",
       "      <td>LGA</td>\n",
       "      <td>UA</td>\n",
       "      <td>United Air Lines Inc.</td>\n",
       "      <td>8044</td>\n",
       "      <td>7.69</td>\n",
       "    </tr>\n",
       "    <tr>\n",
       "      <th>6</th>\n",
       "      <td>LGA</td>\n",
       "      <td>WN</td>\n",
       "      <td>Southwest Airlines Co.</td>\n",
       "      <td>6087</td>\n",
       "      <td>5.82</td>\n",
       "    </tr>\n",
       "    <tr>\n",
       "      <th>7</th>\n",
       "      <td>LGA</td>\n",
       "      <td>B6</td>\n",
       "      <td>JetBlue Airways</td>\n",
       "      <td>6002</td>\n",
       "      <td>5.73</td>\n",
       "    </tr>\n",
       "    <tr>\n",
       "      <th>8</th>\n",
       "      <td>LGA</td>\n",
       "      <td>FL</td>\n",
       "      <td>AirTran Airways Corporation</td>\n",
       "      <td>3260</td>\n",
       "      <td>3.11</td>\n",
       "    </tr>\n",
       "    <tr>\n",
       "      <th>9</th>\n",
       "      <td>LGA</td>\n",
       "      <td>9E</td>\n",
       "      <td>Endeavor Air Inc.</td>\n",
       "      <td>2541</td>\n",
       "      <td>2.43</td>\n",
       "    </tr>\n",
       "    <tr>\n",
       "      <th>10</th>\n",
       "      <td>LGA</td>\n",
       "      <td>F9</td>\n",
       "      <td>Frontier Airlines Inc.</td>\n",
       "      <td>685</td>\n",
       "      <td>0.65</td>\n",
       "    </tr>\n",
       "    <tr>\n",
       "      <th>11</th>\n",
       "      <td>LGA</td>\n",
       "      <td>YV</td>\n",
       "      <td>Mesa Airlines Inc.</td>\n",
       "      <td>601</td>\n",
       "      <td>0.57</td>\n",
       "    </tr>\n",
       "    <tr>\n",
       "      <th>12</th>\n",
       "      <td>LGA</td>\n",
       "      <td>OO</td>\n",
       "      <td>SkyWest Airlines Inc.</td>\n",
       "      <td>26</td>\n",
       "      <td>0.02</td>\n",
       "    </tr>\n",
       "  </tbody>\n",
       "</table>\n",
       "</div>"
      ],
      "text/plain": [
       "   origin carrier                airlines_name  countFlights  pctFlights\n",
       "0     LGA      DL         Delta Air Lines Inc.         23067       22.04\n",
       "1     LGA      MQ                    Envoy Air         16928       16.17\n",
       "2     LGA      AA       American Airlines Inc.         15459       14.77\n",
       "3     LGA      US              US Airways Inc.         13136       12.55\n",
       "4     LGA      EV     ExpressJet Airlines Inc.          8826        8.43\n",
       "5     LGA      UA        United Air Lines Inc.          8044        7.69\n",
       "6     LGA      WN       Southwest Airlines Co.          6087        5.82\n",
       "7     LGA      B6              JetBlue Airways          6002        5.73\n",
       "8     LGA      FL  AirTran Airways Corporation          3260        3.11\n",
       "9     LGA      9E            Endeavor Air Inc.          2541        2.43\n",
       "10    LGA      F9       Frontier Airlines Inc.           685        0.65\n",
       "11    LGA      YV           Mesa Airlines Inc.           601        0.57\n",
       "12    LGA      OO        SkyWest Airlines Inc.            26        0.02"
      ]
     },
     "execution_count": 19,
     "metadata": {},
     "output_type": "execute_result"
    }
   ],
   "source": [
    "# Number/percentage of flights per airlines when the origin airport is LGA\n",
    "q = '''\n",
    "SELECT  f.origin, \n",
    "        f.carrier, \n",
    "        a.name as airlines_name,\n",
    "        count(*) as countFlights, \n",
    "        round(( cast(COUNT(*) as REAL) / (SELECT count(*) FROM flights WHERE origin = 'LGA') )*100, 2) as pctFlights\n",
    "FROM flights as f\n",
    "INNER JOIN airlines as a\n",
    "ON f.carrier = a.carrier\n",
    "WHERE origin = 'LGA'\n",
    "GROUP BY f.carrier \n",
    "ORDER BY pctFlights DESC\n",
    "'''\n",
    "pd.read_sql_query(q, conn)"
   ]
  },
  {
   "cell_type": "markdown",
   "id": "05b46656",
   "metadata": {},
   "source": [
    "## 2. Top 10 days with the largest number of flights\n",
    "\n",
    "- The busiest days in 2013 include 11/27/2013 (the end of Thanksgiving), 12/2/2013 (beginning of December), and the others are in July. "
   ]
  },
  {
   "cell_type": "code",
   "execution_count": 21,
   "id": "c6b11bcc",
   "metadata": {
    "scrolled": false
   },
   "outputs": [
    {
     "data": {
      "text/html": [
       "<div>\n",
       "<style scoped>\n",
       "    .dataframe tbody tr th:only-of-type {\n",
       "        vertical-align: middle;\n",
       "    }\n",
       "\n",
       "    .dataframe tbody tr th {\n",
       "        vertical-align: top;\n",
       "    }\n",
       "\n",
       "    .dataframe thead th {\n",
       "        text-align: right;\n",
       "    }\n",
       "</style>\n",
       "<table border=\"1\" class=\"dataframe\">\n",
       "  <thead>\n",
       "    <tr style=\"text-align: right;\">\n",
       "      <th></th>\n",
       "      <th>year</th>\n",
       "      <th>month</th>\n",
       "      <th>day</th>\n",
       "      <th>dayofweek</th>\n",
       "      <th>countFlights</th>\n",
       "    </tr>\n",
       "  </thead>\n",
       "  <tbody>\n",
       "    <tr>\n",
       "      <th>0</th>\n",
       "      <td>2013</td>\n",
       "      <td>11</td>\n",
       "      <td>27</td>\n",
       "      <td>Wednesday</td>\n",
       "      <td>1014</td>\n",
       "    </tr>\n",
       "    <tr>\n",
       "      <th>1</th>\n",
       "      <td>2013</td>\n",
       "      <td>7</td>\n",
       "      <td>11</td>\n",
       "      <td>Thursday</td>\n",
       "      <td>1006</td>\n",
       "    </tr>\n",
       "    <tr>\n",
       "      <th>2</th>\n",
       "      <td>2013</td>\n",
       "      <td>7</td>\n",
       "      <td>8</td>\n",
       "      <td>Monday</td>\n",
       "      <td>1004</td>\n",
       "    </tr>\n",
       "    <tr>\n",
       "      <th>3</th>\n",
       "      <td>2013</td>\n",
       "      <td>7</td>\n",
       "      <td>10</td>\n",
       "      <td>Wednesday</td>\n",
       "      <td>1004</td>\n",
       "    </tr>\n",
       "    <tr>\n",
       "      <th>4</th>\n",
       "      <td>2013</td>\n",
       "      <td>12</td>\n",
       "      <td>2</td>\n",
       "      <td>Monday</td>\n",
       "      <td>1004</td>\n",
       "    </tr>\n",
       "    <tr>\n",
       "      <th>5</th>\n",
       "      <td>2013</td>\n",
       "      <td>7</td>\n",
       "      <td>18</td>\n",
       "      <td>Thursday</td>\n",
       "      <td>1003</td>\n",
       "    </tr>\n",
       "    <tr>\n",
       "      <th>6</th>\n",
       "      <td>2013</td>\n",
       "      <td>7</td>\n",
       "      <td>25</td>\n",
       "      <td>Thursday</td>\n",
       "      <td>1003</td>\n",
       "    </tr>\n",
       "    <tr>\n",
       "      <th>7</th>\n",
       "      <td>2013</td>\n",
       "      <td>7</td>\n",
       "      <td>12</td>\n",
       "      <td>Friday</td>\n",
       "      <td>1002</td>\n",
       "    </tr>\n",
       "    <tr>\n",
       "      <th>8</th>\n",
       "      <td>2013</td>\n",
       "      <td>7</td>\n",
       "      <td>9</td>\n",
       "      <td>Tuesday</td>\n",
       "      <td>1001</td>\n",
       "    </tr>\n",
       "    <tr>\n",
       "      <th>9</th>\n",
       "      <td>2013</td>\n",
       "      <td>7</td>\n",
       "      <td>17</td>\n",
       "      <td>Wednesday</td>\n",
       "      <td>1001</td>\n",
       "    </tr>\n",
       "  </tbody>\n",
       "</table>\n",
       "</div>"
      ],
      "text/plain": [
       "   year  month  day  dayofweek  countFlights\n",
       "0  2013     11   27  Wednesday          1014\n",
       "1  2013      7   11   Thursday          1006\n",
       "2  2013      7    8     Monday          1004\n",
       "3  2013      7   10  Wednesday          1004\n",
       "4  2013     12    2     Monday          1004\n",
       "5  2013      7   18   Thursday          1003\n",
       "6  2013      7   25   Thursday          1003\n",
       "7  2013      7   12     Friday          1002\n",
       "8  2013      7    9    Tuesday          1001\n",
       "9  2013      7   17  Wednesday          1001"
      ]
     },
     "execution_count": 21,
     "metadata": {},
     "output_type": "execute_result"
    }
   ],
   "source": [
    "q = '''\n",
    "SELECT  year, month, day, \n",
    "        case cast (strftime('%w', time_hour) as integer)\n",
    "        when 0 then 'Sunday'\n",
    "        when 1 then 'Monday'\n",
    "        when 2 then 'Tuesday'\n",
    "        when 3 then 'Wednesday'\n",
    "        when 4 then 'Thursday'\n",
    "        when 5 then 'Friday'\n",
    "        else 'Saturday' \n",
    "        end as dayofweek, \n",
    "        count(*) as countFlights\n",
    "FROM flights \n",
    "GROUP BY month, day\n",
    "ORDER BY countFlights DESC\n",
    "LIMIT 10\n",
    "'''\n",
    "pd.read_sql_query(q, conn)"
   ]
  },
  {
   "cell_type": "markdown",
   "id": "13c552b3",
   "metadata": {},
   "source": [
    "## 3. Is the departure delay time varying across airlines?\n",
    "\n",
    "- Averaged departure delay times (min) per airline are quite different across airlines.\n",
    "- The airlines with the shortest delay time are US (3.7 m), HA (4.9 m), AS (5.8 m) and AA (8.4 m).\n",
    "- The airlines with the longest delay time are F9 (20.1 m), EV (18.9 m), FL (18.3 m), whereas the overall average time is 12.3 m."
   ]
  },
  {
   "cell_type": "code",
   "execution_count": 23,
   "id": "d03f5c3d",
   "metadata": {
    "scrolled": true
   },
   "outputs": [
    {
     "data": {
      "text/html": [
       "<div>\n",
       "<style scoped>\n",
       "    .dataframe tbody tr th:only-of-type {\n",
       "        vertical-align: middle;\n",
       "    }\n",
       "\n",
       "    .dataframe tbody tr th {\n",
       "        vertical-align: top;\n",
       "    }\n",
       "\n",
       "    .dataframe thead th {\n",
       "        text-align: right;\n",
       "    }\n",
       "</style>\n",
       "<table border=\"1\" class=\"dataframe\">\n",
       "  <thead>\n",
       "    <tr style=\"text-align: right;\">\n",
       "      <th></th>\n",
       "      <th>carrier</th>\n",
       "      <th>countFlights</th>\n",
       "      <th>avg_dep_delay</th>\n",
       "      <th>overall_avg_delp_delay</th>\n",
       "    </tr>\n",
       "  </thead>\n",
       "  <tbody>\n",
       "    <tr>\n",
       "      <th>0</th>\n",
       "      <td>US</td>\n",
       "      <td>20536</td>\n",
       "      <td>3.7</td>\n",
       "      <td>12.3</td>\n",
       "    </tr>\n",
       "    <tr>\n",
       "      <th>1</th>\n",
       "      <td>HA</td>\n",
       "      <td>342</td>\n",
       "      <td>4.9</td>\n",
       "      <td>12.3</td>\n",
       "    </tr>\n",
       "    <tr>\n",
       "      <th>2</th>\n",
       "      <td>AS</td>\n",
       "      <td>714</td>\n",
       "      <td>5.8</td>\n",
       "      <td>12.3</td>\n",
       "    </tr>\n",
       "    <tr>\n",
       "      <th>3</th>\n",
       "      <td>AA</td>\n",
       "      <td>32729</td>\n",
       "      <td>8.4</td>\n",
       "      <td>12.3</td>\n",
       "    </tr>\n",
       "    <tr>\n",
       "      <th>4</th>\n",
       "      <td>DL</td>\n",
       "      <td>48110</td>\n",
       "      <td>9.2</td>\n",
       "      <td>12.3</td>\n",
       "    </tr>\n",
       "    <tr>\n",
       "      <th>5</th>\n",
       "      <td>MQ</td>\n",
       "      <td>26397</td>\n",
       "      <td>10.1</td>\n",
       "      <td>12.3</td>\n",
       "    </tr>\n",
       "    <tr>\n",
       "      <th>6</th>\n",
       "      <td>OO</td>\n",
       "      <td>32</td>\n",
       "      <td>11.4</td>\n",
       "      <td>12.3</td>\n",
       "    </tr>\n",
       "    <tr>\n",
       "      <th>7</th>\n",
       "      <td>UA</td>\n",
       "      <td>58665</td>\n",
       "      <td>12.0</td>\n",
       "      <td>12.3</td>\n",
       "    </tr>\n",
       "    <tr>\n",
       "      <th>8</th>\n",
       "      <td>VX</td>\n",
       "      <td>5162</td>\n",
       "      <td>12.8</td>\n",
       "      <td>12.3</td>\n",
       "    </tr>\n",
       "    <tr>\n",
       "      <th>9</th>\n",
       "      <td>B6</td>\n",
       "      <td>54635</td>\n",
       "      <td>12.9</td>\n",
       "      <td>12.3</td>\n",
       "    </tr>\n",
       "    <tr>\n",
       "      <th>10</th>\n",
       "      <td>9E</td>\n",
       "      <td>18460</td>\n",
       "      <td>15.8</td>\n",
       "      <td>12.3</td>\n",
       "    </tr>\n",
       "    <tr>\n",
       "      <th>11</th>\n",
       "      <td>YV</td>\n",
       "      <td>601</td>\n",
       "      <td>17.2</td>\n",
       "      <td>12.3</td>\n",
       "    </tr>\n",
       "    <tr>\n",
       "      <th>12</th>\n",
       "      <td>WN</td>\n",
       "      <td>12275</td>\n",
       "      <td>17.4</td>\n",
       "      <td>12.3</td>\n",
       "    </tr>\n",
       "    <tr>\n",
       "      <th>13</th>\n",
       "      <td>FL</td>\n",
       "      <td>3260</td>\n",
       "      <td>18.3</td>\n",
       "      <td>12.3</td>\n",
       "    </tr>\n",
       "    <tr>\n",
       "      <th>14</th>\n",
       "      <td>EV</td>\n",
       "      <td>54173</td>\n",
       "      <td>18.9</td>\n",
       "      <td>12.3</td>\n",
       "    </tr>\n",
       "    <tr>\n",
       "      <th>15</th>\n",
       "      <td>F9</td>\n",
       "      <td>685</td>\n",
       "      <td>20.1</td>\n",
       "      <td>12.3</td>\n",
       "    </tr>\n",
       "  </tbody>\n",
       "</table>\n",
       "</div>"
      ],
      "text/plain": [
       "   carrier  countFlights  avg_dep_delay  overall_avg_delp_delay\n",
       "0       US         20536            3.7                    12.3\n",
       "1       HA           342            4.9                    12.3\n",
       "2       AS           714            5.8                    12.3\n",
       "3       AA         32729            8.4                    12.3\n",
       "4       DL         48110            9.2                    12.3\n",
       "5       MQ         26397           10.1                    12.3\n",
       "6       OO            32           11.4                    12.3\n",
       "7       UA         58665           12.0                    12.3\n",
       "8       VX          5162           12.8                    12.3\n",
       "9       B6         54635           12.9                    12.3\n",
       "10      9E         18460           15.8                    12.3\n",
       "11      YV           601           17.2                    12.3\n",
       "12      WN         12275           17.4                    12.3\n",
       "13      FL          3260           18.3                    12.3\n",
       "14      EV         54173           18.9                    12.3\n",
       "15      F9           685           20.1                    12.3"
      ]
     },
     "execution_count": 23,
     "metadata": {},
     "output_type": "execute_result"
    }
   ],
   "source": [
    "# Average departure delays per airline, \n",
    "# where dep_delay can be negative to indicate early departure.\n",
    "q = '''\n",
    "SELECT  carrier, \n",
    "        count(*) as countFlights,\n",
    "        round(avg(dep_delay), 1) as avg_dep_delay,\n",
    "        round((SELECT avg(dep_delay) FROM flights), 1) as overall_avg_delp_delay\n",
    "FROM flights\n",
    "GROUP BY carrier\n",
    "ORDER BY avg_dep_delay\n",
    "'''\n",
    "pd.read_sql_query(q, conn)"
   ]
  },
  {
   "cell_type": "markdown",
   "id": "3adb035b",
   "metadata": {},
   "source": [
    "## 4. What is the relation between the departure delay time and weather factors?\n",
    "\n",
    "- Join the flights and weather table."
   ]
  },
  {
   "cell_type": "code",
   "execution_count": 24,
   "id": "c0b4b37e",
   "metadata": {
    "scrolled": true
   },
   "outputs": [
    {
     "data": {
      "text/html": [
       "<div>\n",
       "<style scoped>\n",
       "    .dataframe tbody tr th:only-of-type {\n",
       "        vertical-align: middle;\n",
       "    }\n",
       "\n",
       "    .dataframe tbody tr th {\n",
       "        vertical-align: top;\n",
       "    }\n",
       "\n",
       "    .dataframe thead th {\n",
       "        text-align: right;\n",
       "    }\n",
       "</style>\n",
       "<table border=\"1\" class=\"dataframe\">\n",
       "  <thead>\n",
       "    <tr style=\"text-align: right;\">\n",
       "      <th></th>\n",
       "      <th>month</th>\n",
       "      <th>day</th>\n",
       "      <th>hour</th>\n",
       "      <th>dep_time</th>\n",
       "      <th>dep_delay</th>\n",
       "      <th>origin</th>\n",
       "      <th>dest</th>\n",
       "      <th>arr_delay</th>\n",
       "      <th>time_hour</th>\n",
       "      <th>wind_speed</th>\n",
       "      <th>wind_gust</th>\n",
       "      <th>precip</th>\n",
       "      <th>visib</th>\n",
       "      <th>time_hour</th>\n",
       "    </tr>\n",
       "  </thead>\n",
       "  <tbody>\n",
       "    <tr>\n",
       "      <th>0</th>\n",
       "      <td>1</td>\n",
       "      <td>1</td>\n",
       "      <td>5</td>\n",
       "      <td>517</td>\n",
       "      <td>2</td>\n",
       "      <td>EWR</td>\n",
       "      <td>IAH</td>\n",
       "      <td>11</td>\n",
       "      <td>2013-01-01 05:00:00</td>\n",
       "      <td>12.65858</td>\n",
       "      <td>NaN</td>\n",
       "      <td>0.0</td>\n",
       "      <td>10.0</td>\n",
       "      <td>2013-01-01 05:00:00</td>\n",
       "    </tr>\n",
       "    <tr>\n",
       "      <th>1</th>\n",
       "      <td>1</td>\n",
       "      <td>1</td>\n",
       "      <td>5</td>\n",
       "      <td>533</td>\n",
       "      <td>4</td>\n",
       "      <td>LGA</td>\n",
       "      <td>IAH</td>\n",
       "      <td>20</td>\n",
       "      <td>2013-01-01 05:00:00</td>\n",
       "      <td>14.96014</td>\n",
       "      <td>21.86482</td>\n",
       "      <td>0.0</td>\n",
       "      <td>10.0</td>\n",
       "      <td>2013-01-01 05:00:00</td>\n",
       "    </tr>\n",
       "    <tr>\n",
       "      <th>2</th>\n",
       "      <td>1</td>\n",
       "      <td>1</td>\n",
       "      <td>5</td>\n",
       "      <td>542</td>\n",
       "      <td>2</td>\n",
       "      <td>JFK</td>\n",
       "      <td>MIA</td>\n",
       "      <td>33</td>\n",
       "      <td>2013-01-01 05:00:00</td>\n",
       "      <td>14.96014</td>\n",
       "      <td>NaN</td>\n",
       "      <td>0.0</td>\n",
       "      <td>10.0</td>\n",
       "      <td>2013-01-01 05:00:00</td>\n",
       "    </tr>\n",
       "    <tr>\n",
       "      <th>3</th>\n",
       "      <td>1</td>\n",
       "      <td>1</td>\n",
       "      <td>5</td>\n",
       "      <td>544</td>\n",
       "      <td>-1</td>\n",
       "      <td>JFK</td>\n",
       "      <td>BQN</td>\n",
       "      <td>-18</td>\n",
       "      <td>2013-01-01 05:00:00</td>\n",
       "      <td>14.96014</td>\n",
       "      <td>NaN</td>\n",
       "      <td>0.0</td>\n",
       "      <td>10.0</td>\n",
       "      <td>2013-01-01 05:00:00</td>\n",
       "    </tr>\n",
       "    <tr>\n",
       "      <th>4</th>\n",
       "      <td>1</td>\n",
       "      <td>1</td>\n",
       "      <td>6</td>\n",
       "      <td>554</td>\n",
       "      <td>-6</td>\n",
       "      <td>LGA</td>\n",
       "      <td>ATL</td>\n",
       "      <td>-25</td>\n",
       "      <td>2013-01-01 06:00:00</td>\n",
       "      <td>16.11092</td>\n",
       "      <td>23.01560</td>\n",
       "      <td>0.0</td>\n",
       "      <td>10.0</td>\n",
       "      <td>2013-01-01 06:00:00</td>\n",
       "    </tr>\n",
       "    <tr>\n",
       "      <th>...</th>\n",
       "      <td>...</td>\n",
       "      <td>...</td>\n",
       "      <td>...</td>\n",
       "      <td>...</td>\n",
       "      <td>...</td>\n",
       "      <td>...</td>\n",
       "      <td>...</td>\n",
       "      <td>...</td>\n",
       "      <td>...</td>\n",
       "      <td>...</td>\n",
       "      <td>...</td>\n",
       "      <td>...</td>\n",
       "      <td>...</td>\n",
       "      <td>...</td>\n",
       "    </tr>\n",
       "    <tr>\n",
       "      <th>336771</th>\n",
       "      <td>9</td>\n",
       "      <td>30</td>\n",
       "      <td>14</td>\n",
       "      <td>NA</td>\n",
       "      <td>NA</td>\n",
       "      <td>JFK</td>\n",
       "      <td>DCA</td>\n",
       "      <td>NA</td>\n",
       "      <td>2013-09-30 14:00:00</td>\n",
       "      <td>11.5078</td>\n",
       "      <td>NaN</td>\n",
       "      <td>0.0</td>\n",
       "      <td>10.0</td>\n",
       "      <td>2013-09-30 14:00:00</td>\n",
       "    </tr>\n",
       "    <tr>\n",
       "      <th>336772</th>\n",
       "      <td>9</td>\n",
       "      <td>30</td>\n",
       "      <td>22</td>\n",
       "      <td>NA</td>\n",
       "      <td>NA</td>\n",
       "      <td>LGA</td>\n",
       "      <td>SYR</td>\n",
       "      <td>NA</td>\n",
       "      <td>2013-09-30 22:00:00</td>\n",
       "      <td>6.90468</td>\n",
       "      <td>NaN</td>\n",
       "      <td>0.0</td>\n",
       "      <td>10.0</td>\n",
       "      <td>2013-09-30 22:00:00</td>\n",
       "    </tr>\n",
       "    <tr>\n",
       "      <th>336773</th>\n",
       "      <td>9</td>\n",
       "      <td>30</td>\n",
       "      <td>12</td>\n",
       "      <td>NA</td>\n",
       "      <td>NA</td>\n",
       "      <td>LGA</td>\n",
       "      <td>BNA</td>\n",
       "      <td>NA</td>\n",
       "      <td>2013-09-30 12:00:00</td>\n",
       "      <td>5.7539</td>\n",
       "      <td>NaN</td>\n",
       "      <td>0.0</td>\n",
       "      <td>10.0</td>\n",
       "      <td>2013-09-30 12:00:00</td>\n",
       "    </tr>\n",
       "    <tr>\n",
       "      <th>336774</th>\n",
       "      <td>9</td>\n",
       "      <td>30</td>\n",
       "      <td>11</td>\n",
       "      <td>NA</td>\n",
       "      <td>NA</td>\n",
       "      <td>LGA</td>\n",
       "      <td>CLE</td>\n",
       "      <td>NA</td>\n",
       "      <td>2013-09-30 11:00:00</td>\n",
       "      <td>8.05546</td>\n",
       "      <td>NaN</td>\n",
       "      <td>0.0</td>\n",
       "      <td>10.0</td>\n",
       "      <td>2013-09-30 11:00:00</td>\n",
       "    </tr>\n",
       "    <tr>\n",
       "      <th>336775</th>\n",
       "      <td>9</td>\n",
       "      <td>30</td>\n",
       "      <td>8</td>\n",
       "      <td>NA</td>\n",
       "      <td>NA</td>\n",
       "      <td>LGA</td>\n",
       "      <td>RDU</td>\n",
       "      <td>NA</td>\n",
       "      <td>2013-09-30 08:00:00</td>\n",
       "      <td>5.7539</td>\n",
       "      <td>NaN</td>\n",
       "      <td>0.0</td>\n",
       "      <td>10.0</td>\n",
       "      <td>2013-09-30 08:00:00</td>\n",
       "    </tr>\n",
       "  </tbody>\n",
       "</table>\n",
       "<p>336776 rows × 14 columns</p>\n",
       "</div>"
      ],
      "text/plain": [
       "        month  day  hour dep_time dep_delay origin dest arr_delay  \\\n",
       "0           1    1     5      517         2    EWR  IAH        11   \n",
       "1           1    1     5      533         4    LGA  IAH        20   \n",
       "2           1    1     5      542         2    JFK  MIA        33   \n",
       "3           1    1     5      544        -1    JFK  BQN       -18   \n",
       "4           1    1     6      554        -6    LGA  ATL       -25   \n",
       "...       ...  ...   ...      ...       ...    ...  ...       ...   \n",
       "336771      9   30    14       NA        NA    JFK  DCA        NA   \n",
       "336772      9   30    22       NA        NA    LGA  SYR        NA   \n",
       "336773      9   30    12       NA        NA    LGA  BNA        NA   \n",
       "336774      9   30    11       NA        NA    LGA  CLE        NA   \n",
       "336775      9   30     8       NA        NA    LGA  RDU        NA   \n",
       "\n",
       "                  time_hour wind_speed  wind_gust  precip  visib  \\\n",
       "0       2013-01-01 05:00:00   12.65858        NaN     0.0   10.0   \n",
       "1       2013-01-01 05:00:00   14.96014   21.86482     0.0   10.0   \n",
       "2       2013-01-01 05:00:00   14.96014        NaN     0.0   10.0   \n",
       "3       2013-01-01 05:00:00   14.96014        NaN     0.0   10.0   \n",
       "4       2013-01-01 06:00:00   16.11092   23.01560     0.0   10.0   \n",
       "...                     ...        ...        ...     ...    ...   \n",
       "336771  2013-09-30 14:00:00    11.5078        NaN     0.0   10.0   \n",
       "336772  2013-09-30 22:00:00    6.90468        NaN     0.0   10.0   \n",
       "336773  2013-09-30 12:00:00     5.7539        NaN     0.0   10.0   \n",
       "336774  2013-09-30 11:00:00    8.05546        NaN     0.0   10.0   \n",
       "336775  2013-09-30 08:00:00     5.7539        NaN     0.0   10.0   \n",
       "\n",
       "                  time_hour  \n",
       "0       2013-01-01 05:00:00  \n",
       "1       2013-01-01 05:00:00  \n",
       "2       2013-01-01 05:00:00  \n",
       "3       2013-01-01 05:00:00  \n",
       "4       2013-01-01 06:00:00  \n",
       "...                     ...  \n",
       "336771  2013-09-30 14:00:00  \n",
       "336772  2013-09-30 22:00:00  \n",
       "336773  2013-09-30 12:00:00  \n",
       "336774  2013-09-30 11:00:00  \n",
       "336775  2013-09-30 08:00:00  \n",
       "\n",
       "[336776 rows x 14 columns]"
      ]
     },
     "execution_count": 24,
     "metadata": {},
     "output_type": "execute_result"
    }
   ],
   "source": [
    "q = '''\n",
    "SELECT  f.month, f.day, f.hour, f.dep_time, f.dep_delay, f.origin, f.dest, f.arr_delay, f.time_hour,\n",
    "        w.wind_speed, w.wind_gust, w.precip, w.visib, w.time_hour\n",
    "FROM flights as f\n",
    "LEFT JOIN weather as w\n",
    "ON f.time_hour = w.time_hour and f.origin = w.origin \n",
    "'''\n",
    "df0 = pd.read_sql_query(q, conn)\n",
    "df0"
   ]
  },
  {
   "cell_type": "markdown",
   "id": "f18ebf80",
   "metadata": {},
   "source": [
    "### Average departure delay vs visibility in miles at the origin airport"
   ]
  },
  {
   "cell_type": "code",
   "execution_count": 25,
   "id": "6ac7e2f8",
   "metadata": {
    "scrolled": true
   },
   "outputs": [
    {
     "data": {
      "text/html": [
       "<div>\n",
       "<style scoped>\n",
       "    .dataframe tbody tr th:only-of-type {\n",
       "        vertical-align: middle;\n",
       "    }\n",
       "\n",
       "    .dataframe tbody tr th {\n",
       "        vertical-align: top;\n",
       "    }\n",
       "\n",
       "    .dataframe thead th {\n",
       "        text-align: right;\n",
       "    }\n",
       "</style>\n",
       "<table border=\"1\" class=\"dataframe\">\n",
       "  <thead>\n",
       "    <tr style=\"text-align: right;\">\n",
       "      <th></th>\n",
       "      <th>visibility</th>\n",
       "      <th>avg_dep_delay</th>\n",
       "      <th>countFlights</th>\n",
       "    </tr>\n",
       "  </thead>\n",
       "  <tbody>\n",
       "    <tr>\n",
       "      <th>0</th>\n",
       "      <td>NaN</td>\n",
       "      <td>13.185090</td>\n",
       "      <td>1556</td>\n",
       "    </tr>\n",
       "    <tr>\n",
       "      <th>1</th>\n",
       "      <td>0.0</td>\n",
       "      <td>25.831584</td>\n",
       "      <td>2001</td>\n",
       "    </tr>\n",
       "    <tr>\n",
       "      <th>2</th>\n",
       "      <td>1.0</td>\n",
       "      <td>29.763129</td>\n",
       "      <td>3656</td>\n",
       "    </tr>\n",
       "    <tr>\n",
       "      <th>3</th>\n",
       "      <td>2.0</td>\n",
       "      <td>22.147018</td>\n",
       "      <td>5047</td>\n",
       "    </tr>\n",
       "    <tr>\n",
       "      <th>4</th>\n",
       "      <td>3.0</td>\n",
       "      <td>19.802740</td>\n",
       "      <td>6058</td>\n",
       "    </tr>\n",
       "    <tr>\n",
       "      <th>5</th>\n",
       "      <td>4.0</td>\n",
       "      <td>18.436751</td>\n",
       "      <td>2253</td>\n",
       "    </tr>\n",
       "    <tr>\n",
       "      <th>6</th>\n",
       "      <td>5.0</td>\n",
       "      <td>20.024329</td>\n",
       "      <td>4809</td>\n",
       "    </tr>\n",
       "    <tr>\n",
       "      <th>7</th>\n",
       "      <td>6.0</td>\n",
       "      <td>18.807188</td>\n",
       "      <td>6260</td>\n",
       "    </tr>\n",
       "    <tr>\n",
       "      <th>8</th>\n",
       "      <td>7.0</td>\n",
       "      <td>18.317408</td>\n",
       "      <td>7347</td>\n",
       "    </tr>\n",
       "    <tr>\n",
       "      <th>9</th>\n",
       "      <td>8.0</td>\n",
       "      <td>19.199107</td>\n",
       "      <td>7614</td>\n",
       "    </tr>\n",
       "    <tr>\n",
       "      <th>10</th>\n",
       "      <td>9.0</td>\n",
       "      <td>18.022998</td>\n",
       "      <td>11436</td>\n",
       "    </tr>\n",
       "    <tr>\n",
       "      <th>11</th>\n",
       "      <td>10.0</td>\n",
       "      <td>10.751997</td>\n",
       "      <td>278739</td>\n",
       "    </tr>\n",
       "  </tbody>\n",
       "</table>\n",
       "</div>"
      ],
      "text/plain": [
       "    visibility  avg_dep_delay  countFlights\n",
       "0          NaN      13.185090          1556\n",
       "1          0.0      25.831584          2001\n",
       "2          1.0      29.763129          3656\n",
       "3          2.0      22.147018          5047\n",
       "4          3.0      19.802740          6058\n",
       "5          4.0      18.436751          2253\n",
       "6          5.0      20.024329          4809\n",
       "7          6.0      18.807188          6260\n",
       "8          7.0      18.317408          7347\n",
       "9          8.0      19.199107          7614\n",
       "10         9.0      18.022998         11436\n",
       "11        10.0      10.751997        278739"
      ]
     },
     "execution_count": 25,
     "metadata": {},
     "output_type": "execute_result"
    }
   ],
   "source": [
    "# avgDepDelay (min) vs visib\n",
    "q = '''\n",
    "SELECT  round(w.visib, 0) as visibility,\n",
    "        avg(dep_delay) as avg_dep_delay, \n",
    "        count(*) as countFlights\n",
    "FROM flights as f\n",
    "LEFT JOIN weather as w\n",
    "ON f.time_hour = w.time_hour and f.origin = w.origin \n",
    "GROUP BY visibility\n",
    "ORDER BY visibility\n",
    "'''\n",
    "avgDepDelay_visib = pd.read_sql_query(q, conn)\n",
    "avgDepDelay_visib"
   ]
  },
  {
   "cell_type": "markdown",
   "id": "a863b369",
   "metadata": {},
   "source": [
    "- Departure delay increases as visibility gets lower with mild non-linearity. "
   ]
  },
  {
   "cell_type": "code",
   "execution_count": 27,
   "id": "64bc7157",
   "metadata": {
    "scrolled": false
   },
   "outputs": [
    {
     "data": {
      "application/vnd.plotly.v1+json": {
       "config": {
        "plotlyServerURL": "https://plot.ly"
       },
       "data": [
        {
         "hovertemplate": "Visibility in miles=%{x}<br>Average Departure Delay (min)=%{y}<extra></extra>",
         "legendgroup": "",
         "line": {
          "color": "#636efa",
          "dash": "solid"
         },
         "marker": {
          "symbol": "circle"
         },
         "mode": "lines+markers",
         "name": "",
         "orientation": "v",
         "showlegend": false,
         "type": "scatter",
         "x": [
          0,
          1,
          2,
          3,
          4,
          5,
          6,
          7,
          8,
          9,
          10
         ],
         "xaxis": "x",
         "y": [
          25.831584207896054,
          29.76312910284464,
          22.147018030513177,
          19.802740178276657,
          18.43675099866844,
          20.024329382407984,
          18.807188498402557,
          18.31740846604056,
          19.199106908326765,
          18.022997551591466,
          10.751997388237742
         ],
         "yaxis": "y"
        }
       ],
       "layout": {
        "annotations": [
         {
          "showarrow": false,
          "text": "Overall Avg",
          "x": 1,
          "xanchor": "right",
          "xref": "x domain",
          "y": 12.329263367935958,
          "yanchor": "bottom",
          "yref": "y"
         }
        ],
        "legend": {
         "tracegroupgap": 0
        },
        "shapes": [
         {
          "line": {
           "color": "gray",
           "dash": "dash"
          },
          "type": "line",
          "x0": 0,
          "x1": 1,
          "xref": "x domain",
          "y0": 12.329263367935958,
          "y1": 12.329263367935958,
          "yref": "y"
         }
        ],
        "template": {
         "data": {
          "bar": [
           {
            "error_x": {
             "color": "#2a3f5f"
            },
            "error_y": {
             "color": "#2a3f5f"
            },
            "marker": {
             "line": {
              "color": "#E5ECF6",
              "width": 0.5
             },
             "pattern": {
              "fillmode": "overlay",
              "size": 10,
              "solidity": 0.2
             }
            },
            "type": "bar"
           }
          ],
          "barpolar": [
           {
            "marker": {
             "line": {
              "color": "#E5ECF6",
              "width": 0.5
             },
             "pattern": {
              "fillmode": "overlay",
              "size": 10,
              "solidity": 0.2
             }
            },
            "type": "barpolar"
           }
          ],
          "carpet": [
           {
            "aaxis": {
             "endlinecolor": "#2a3f5f",
             "gridcolor": "white",
             "linecolor": "white",
             "minorgridcolor": "white",
             "startlinecolor": "#2a3f5f"
            },
            "baxis": {
             "endlinecolor": "#2a3f5f",
             "gridcolor": "white",
             "linecolor": "white",
             "minorgridcolor": "white",
             "startlinecolor": "#2a3f5f"
            },
            "type": "carpet"
           }
          ],
          "choropleth": [
           {
            "colorbar": {
             "outlinewidth": 0,
             "ticks": ""
            },
            "type": "choropleth"
           }
          ],
          "contour": [
           {
            "colorbar": {
             "outlinewidth": 0,
             "ticks": ""
            },
            "colorscale": [
             [
              0,
              "#0d0887"
             ],
             [
              0.1111111111111111,
              "#46039f"
             ],
             [
              0.2222222222222222,
              "#7201a8"
             ],
             [
              0.3333333333333333,
              "#9c179e"
             ],
             [
              0.4444444444444444,
              "#bd3786"
             ],
             [
              0.5555555555555556,
              "#d8576b"
             ],
             [
              0.6666666666666666,
              "#ed7953"
             ],
             [
              0.7777777777777778,
              "#fb9f3a"
             ],
             [
              0.8888888888888888,
              "#fdca26"
             ],
             [
              1,
              "#f0f921"
             ]
            ],
            "type": "contour"
           }
          ],
          "contourcarpet": [
           {
            "colorbar": {
             "outlinewidth": 0,
             "ticks": ""
            },
            "type": "contourcarpet"
           }
          ],
          "heatmap": [
           {
            "colorbar": {
             "outlinewidth": 0,
             "ticks": ""
            },
            "colorscale": [
             [
              0,
              "#0d0887"
             ],
             [
              0.1111111111111111,
              "#46039f"
             ],
             [
              0.2222222222222222,
              "#7201a8"
             ],
             [
              0.3333333333333333,
              "#9c179e"
             ],
             [
              0.4444444444444444,
              "#bd3786"
             ],
             [
              0.5555555555555556,
              "#d8576b"
             ],
             [
              0.6666666666666666,
              "#ed7953"
             ],
             [
              0.7777777777777778,
              "#fb9f3a"
             ],
             [
              0.8888888888888888,
              "#fdca26"
             ],
             [
              1,
              "#f0f921"
             ]
            ],
            "type": "heatmap"
           }
          ],
          "heatmapgl": [
           {
            "colorbar": {
             "outlinewidth": 0,
             "ticks": ""
            },
            "colorscale": [
             [
              0,
              "#0d0887"
             ],
             [
              0.1111111111111111,
              "#46039f"
             ],
             [
              0.2222222222222222,
              "#7201a8"
             ],
             [
              0.3333333333333333,
              "#9c179e"
             ],
             [
              0.4444444444444444,
              "#bd3786"
             ],
             [
              0.5555555555555556,
              "#d8576b"
             ],
             [
              0.6666666666666666,
              "#ed7953"
             ],
             [
              0.7777777777777778,
              "#fb9f3a"
             ],
             [
              0.8888888888888888,
              "#fdca26"
             ],
             [
              1,
              "#f0f921"
             ]
            ],
            "type": "heatmapgl"
           }
          ],
          "histogram": [
           {
            "marker": {
             "pattern": {
              "fillmode": "overlay",
              "size": 10,
              "solidity": 0.2
             }
            },
            "type": "histogram"
           }
          ],
          "histogram2d": [
           {
            "colorbar": {
             "outlinewidth": 0,
             "ticks": ""
            },
            "colorscale": [
             [
              0,
              "#0d0887"
             ],
             [
              0.1111111111111111,
              "#46039f"
             ],
             [
              0.2222222222222222,
              "#7201a8"
             ],
             [
              0.3333333333333333,
              "#9c179e"
             ],
             [
              0.4444444444444444,
              "#bd3786"
             ],
             [
              0.5555555555555556,
              "#d8576b"
             ],
             [
              0.6666666666666666,
              "#ed7953"
             ],
             [
              0.7777777777777778,
              "#fb9f3a"
             ],
             [
              0.8888888888888888,
              "#fdca26"
             ],
             [
              1,
              "#f0f921"
             ]
            ],
            "type": "histogram2d"
           }
          ],
          "histogram2dcontour": [
           {
            "colorbar": {
             "outlinewidth": 0,
             "ticks": ""
            },
            "colorscale": [
             [
              0,
              "#0d0887"
             ],
             [
              0.1111111111111111,
              "#46039f"
             ],
             [
              0.2222222222222222,
              "#7201a8"
             ],
             [
              0.3333333333333333,
              "#9c179e"
             ],
             [
              0.4444444444444444,
              "#bd3786"
             ],
             [
              0.5555555555555556,
              "#d8576b"
             ],
             [
              0.6666666666666666,
              "#ed7953"
             ],
             [
              0.7777777777777778,
              "#fb9f3a"
             ],
             [
              0.8888888888888888,
              "#fdca26"
             ],
             [
              1,
              "#f0f921"
             ]
            ],
            "type": "histogram2dcontour"
           }
          ],
          "mesh3d": [
           {
            "colorbar": {
             "outlinewidth": 0,
             "ticks": ""
            },
            "type": "mesh3d"
           }
          ],
          "parcoords": [
           {
            "line": {
             "colorbar": {
              "outlinewidth": 0,
              "ticks": ""
             }
            },
            "type": "parcoords"
           }
          ],
          "pie": [
           {
            "automargin": true,
            "type": "pie"
           }
          ],
          "scatter": [
           {
            "fillpattern": {
             "fillmode": "overlay",
             "size": 10,
             "solidity": 0.2
            },
            "type": "scatter"
           }
          ],
          "scatter3d": [
           {
            "line": {
             "colorbar": {
              "outlinewidth": 0,
              "ticks": ""
             }
            },
            "marker": {
             "colorbar": {
              "outlinewidth": 0,
              "ticks": ""
             }
            },
            "type": "scatter3d"
           }
          ],
          "scattercarpet": [
           {
            "marker": {
             "colorbar": {
              "outlinewidth": 0,
              "ticks": ""
             }
            },
            "type": "scattercarpet"
           }
          ],
          "scattergeo": [
           {
            "marker": {
             "colorbar": {
              "outlinewidth": 0,
              "ticks": ""
             }
            },
            "type": "scattergeo"
           }
          ],
          "scattergl": [
           {
            "marker": {
             "colorbar": {
              "outlinewidth": 0,
              "ticks": ""
             }
            },
            "type": "scattergl"
           }
          ],
          "scattermapbox": [
           {
            "marker": {
             "colorbar": {
              "outlinewidth": 0,
              "ticks": ""
             }
            },
            "type": "scattermapbox"
           }
          ],
          "scatterpolar": [
           {
            "marker": {
             "colorbar": {
              "outlinewidth": 0,
              "ticks": ""
             }
            },
            "type": "scatterpolar"
           }
          ],
          "scatterpolargl": [
           {
            "marker": {
             "colorbar": {
              "outlinewidth": 0,
              "ticks": ""
             }
            },
            "type": "scatterpolargl"
           }
          ],
          "scatterternary": [
           {
            "marker": {
             "colorbar": {
              "outlinewidth": 0,
              "ticks": ""
             }
            },
            "type": "scatterternary"
           }
          ],
          "surface": [
           {
            "colorbar": {
             "outlinewidth": 0,
             "ticks": ""
            },
            "colorscale": [
             [
              0,
              "#0d0887"
             ],
             [
              0.1111111111111111,
              "#46039f"
             ],
             [
              0.2222222222222222,
              "#7201a8"
             ],
             [
              0.3333333333333333,
              "#9c179e"
             ],
             [
              0.4444444444444444,
              "#bd3786"
             ],
             [
              0.5555555555555556,
              "#d8576b"
             ],
             [
              0.6666666666666666,
              "#ed7953"
             ],
             [
              0.7777777777777778,
              "#fb9f3a"
             ],
             [
              0.8888888888888888,
              "#fdca26"
             ],
             [
              1,
              "#f0f921"
             ]
            ],
            "type": "surface"
           }
          ],
          "table": [
           {
            "cells": {
             "fill": {
              "color": "#EBF0F8"
             },
             "line": {
              "color": "white"
             }
            },
            "header": {
             "fill": {
              "color": "#C8D4E3"
             },
             "line": {
              "color": "white"
             }
            },
            "type": "table"
           }
          ]
         },
         "layout": {
          "annotationdefaults": {
           "arrowcolor": "#2a3f5f",
           "arrowhead": 0,
           "arrowwidth": 1
          },
          "autotypenumbers": "strict",
          "coloraxis": {
           "colorbar": {
            "outlinewidth": 0,
            "ticks": ""
           }
          },
          "colorscale": {
           "diverging": [
            [
             0,
             "#8e0152"
            ],
            [
             0.1,
             "#c51b7d"
            ],
            [
             0.2,
             "#de77ae"
            ],
            [
             0.3,
             "#f1b6da"
            ],
            [
             0.4,
             "#fde0ef"
            ],
            [
             0.5,
             "#f7f7f7"
            ],
            [
             0.6,
             "#e6f5d0"
            ],
            [
             0.7,
             "#b8e186"
            ],
            [
             0.8,
             "#7fbc41"
            ],
            [
             0.9,
             "#4d9221"
            ],
            [
             1,
             "#276419"
            ]
           ],
           "sequential": [
            [
             0,
             "#0d0887"
            ],
            [
             0.1111111111111111,
             "#46039f"
            ],
            [
             0.2222222222222222,
             "#7201a8"
            ],
            [
             0.3333333333333333,
             "#9c179e"
            ],
            [
             0.4444444444444444,
             "#bd3786"
            ],
            [
             0.5555555555555556,
             "#d8576b"
            ],
            [
             0.6666666666666666,
             "#ed7953"
            ],
            [
             0.7777777777777778,
             "#fb9f3a"
            ],
            [
             0.8888888888888888,
             "#fdca26"
            ],
            [
             1,
             "#f0f921"
            ]
           ],
           "sequentialminus": [
            [
             0,
             "#0d0887"
            ],
            [
             0.1111111111111111,
             "#46039f"
            ],
            [
             0.2222222222222222,
             "#7201a8"
            ],
            [
             0.3333333333333333,
             "#9c179e"
            ],
            [
             0.4444444444444444,
             "#bd3786"
            ],
            [
             0.5555555555555556,
             "#d8576b"
            ],
            [
             0.6666666666666666,
             "#ed7953"
            ],
            [
             0.7777777777777778,
             "#fb9f3a"
            ],
            [
             0.8888888888888888,
             "#fdca26"
            ],
            [
             1,
             "#f0f921"
            ]
           ]
          },
          "colorway": [
           "#636efa",
           "#EF553B",
           "#00cc96",
           "#ab63fa",
           "#FFA15A",
           "#19d3f3",
           "#FF6692",
           "#B6E880",
           "#FF97FF",
           "#FECB52"
          ],
          "font": {
           "color": "#2a3f5f"
          },
          "geo": {
           "bgcolor": "white",
           "lakecolor": "white",
           "landcolor": "#E5ECF6",
           "showlakes": true,
           "showland": true,
           "subunitcolor": "white"
          },
          "hoverlabel": {
           "align": "left"
          },
          "hovermode": "closest",
          "mapbox": {
           "style": "light"
          },
          "paper_bgcolor": "white",
          "plot_bgcolor": "#E5ECF6",
          "polar": {
           "angularaxis": {
            "gridcolor": "white",
            "linecolor": "white",
            "ticks": ""
           },
           "bgcolor": "#E5ECF6",
           "radialaxis": {
            "gridcolor": "white",
            "linecolor": "white",
            "ticks": ""
           }
          },
          "scene": {
           "xaxis": {
            "backgroundcolor": "#E5ECF6",
            "gridcolor": "white",
            "gridwidth": 2,
            "linecolor": "white",
            "showbackground": true,
            "ticks": "",
            "zerolinecolor": "white"
           },
           "yaxis": {
            "backgroundcolor": "#E5ECF6",
            "gridcolor": "white",
            "gridwidth": 2,
            "linecolor": "white",
            "showbackground": true,
            "ticks": "",
            "zerolinecolor": "white"
           },
           "zaxis": {
            "backgroundcolor": "#E5ECF6",
            "gridcolor": "white",
            "gridwidth": 2,
            "linecolor": "white",
            "showbackground": true,
            "ticks": "",
            "zerolinecolor": "white"
           }
          },
          "shapedefaults": {
           "line": {
            "color": "#2a3f5f"
           }
          },
          "ternary": {
           "aaxis": {
            "gridcolor": "white",
            "linecolor": "white",
            "ticks": ""
           },
           "baxis": {
            "gridcolor": "white",
            "linecolor": "white",
            "ticks": ""
           },
           "bgcolor": "#E5ECF6",
           "caxis": {
            "gridcolor": "white",
            "linecolor": "white",
            "ticks": ""
           }
          },
          "title": {
           "x": 0.05
          },
          "xaxis": {
           "automargin": true,
           "gridcolor": "white",
           "linecolor": "white",
           "ticks": "",
           "title": {
            "standoff": 15
           },
           "zerolinecolor": "white",
           "zerolinewidth": 2
          },
          "yaxis": {
           "automargin": true,
           "gridcolor": "white",
           "linecolor": "white",
           "ticks": "",
           "title": {
            "standoff": 15
           },
           "zerolinecolor": "white",
           "zerolinewidth": 2
          }
         }
        },
        "title": {
         "text": "Average Departure Delay (min) per Visibility Index"
        },
        "xaxis": {
         "anchor": "y",
         "domain": [
          0,
          1
         ],
         "title": {
          "text": "Visibility in miles"
         }
        },
        "yaxis": {
         "anchor": "x",
         "domain": [
          0,
          1
         ],
         "title": {
          "text": "Average Departure Delay (min)"
         }
        }
       }
      },
      "text/html": [
       "<div>                            <div id=\"7d63426e-c3a5-4627-a49f-a5b3db641a44\" class=\"plotly-graph-div\" style=\"height:525px; width:100%;\"></div>            <script type=\"text/javascript\">                require([\"plotly\"], function(Plotly) {                    window.PLOTLYENV=window.PLOTLYENV || {};                                    if (document.getElementById(\"7d63426e-c3a5-4627-a49f-a5b3db641a44\")) {                    Plotly.newPlot(                        \"7d63426e-c3a5-4627-a49f-a5b3db641a44\",                        [{\"hovertemplate\":\"Visibility in miles=%{x}<br>Average Departure Delay (min)=%{y}<extra></extra>\",\"legendgroup\":\"\",\"line\":{\"color\":\"#636efa\",\"dash\":\"solid\"},\"marker\":{\"symbol\":\"circle\"},\"mode\":\"lines+markers\",\"name\":\"\",\"orientation\":\"v\",\"showlegend\":false,\"x\":[0.0,1.0,2.0,3.0,4.0,5.0,6.0,7.0,8.0,9.0,10.0],\"xaxis\":\"x\",\"y\":[25.831584207896054,29.76312910284464,22.147018030513177,19.802740178276657,18.43675099866844,20.024329382407984,18.807188498402557,18.31740846604056,19.199106908326765,18.022997551591466,10.751997388237742],\"yaxis\":\"y\",\"type\":\"scatter\"}],                        {\"template\":{\"data\":{\"histogram2dcontour\":[{\"type\":\"histogram2dcontour\",\"colorbar\":{\"outlinewidth\":0,\"ticks\":\"\"},\"colorscale\":[[0.0,\"#0d0887\"],[0.1111111111111111,\"#46039f\"],[0.2222222222222222,\"#7201a8\"],[0.3333333333333333,\"#9c179e\"],[0.4444444444444444,\"#bd3786\"],[0.5555555555555556,\"#d8576b\"],[0.6666666666666666,\"#ed7953\"],[0.7777777777777778,\"#fb9f3a\"],[0.8888888888888888,\"#fdca26\"],[1.0,\"#f0f921\"]]}],\"choropleth\":[{\"type\":\"choropleth\",\"colorbar\":{\"outlinewidth\":0,\"ticks\":\"\"}}],\"histogram2d\":[{\"type\":\"histogram2d\",\"colorbar\":{\"outlinewidth\":0,\"ticks\":\"\"},\"colorscale\":[[0.0,\"#0d0887\"],[0.1111111111111111,\"#46039f\"],[0.2222222222222222,\"#7201a8\"],[0.3333333333333333,\"#9c179e\"],[0.4444444444444444,\"#bd3786\"],[0.5555555555555556,\"#d8576b\"],[0.6666666666666666,\"#ed7953\"],[0.7777777777777778,\"#fb9f3a\"],[0.8888888888888888,\"#fdca26\"],[1.0,\"#f0f921\"]]}],\"heatmap\":[{\"type\":\"heatmap\",\"colorbar\":{\"outlinewidth\":0,\"ticks\":\"\"},\"colorscale\":[[0.0,\"#0d0887\"],[0.1111111111111111,\"#46039f\"],[0.2222222222222222,\"#7201a8\"],[0.3333333333333333,\"#9c179e\"],[0.4444444444444444,\"#bd3786\"],[0.5555555555555556,\"#d8576b\"],[0.6666666666666666,\"#ed7953\"],[0.7777777777777778,\"#fb9f3a\"],[0.8888888888888888,\"#fdca26\"],[1.0,\"#f0f921\"]]}],\"heatmapgl\":[{\"type\":\"heatmapgl\",\"colorbar\":{\"outlinewidth\":0,\"ticks\":\"\"},\"colorscale\":[[0.0,\"#0d0887\"],[0.1111111111111111,\"#46039f\"],[0.2222222222222222,\"#7201a8\"],[0.3333333333333333,\"#9c179e\"],[0.4444444444444444,\"#bd3786\"],[0.5555555555555556,\"#d8576b\"],[0.6666666666666666,\"#ed7953\"],[0.7777777777777778,\"#fb9f3a\"],[0.8888888888888888,\"#fdca26\"],[1.0,\"#f0f921\"]]}],\"contourcarpet\":[{\"type\":\"contourcarpet\",\"colorbar\":{\"outlinewidth\":0,\"ticks\":\"\"}}],\"contour\":[{\"type\":\"contour\",\"colorbar\":{\"outlinewidth\":0,\"ticks\":\"\"},\"colorscale\":[[0.0,\"#0d0887\"],[0.1111111111111111,\"#46039f\"],[0.2222222222222222,\"#7201a8\"],[0.3333333333333333,\"#9c179e\"],[0.4444444444444444,\"#bd3786\"],[0.5555555555555556,\"#d8576b\"],[0.6666666666666666,\"#ed7953\"],[0.7777777777777778,\"#fb9f3a\"],[0.8888888888888888,\"#fdca26\"],[1.0,\"#f0f921\"]]}],\"surface\":[{\"type\":\"surface\",\"colorbar\":{\"outlinewidth\":0,\"ticks\":\"\"},\"colorscale\":[[0.0,\"#0d0887\"],[0.1111111111111111,\"#46039f\"],[0.2222222222222222,\"#7201a8\"],[0.3333333333333333,\"#9c179e\"],[0.4444444444444444,\"#bd3786\"],[0.5555555555555556,\"#d8576b\"],[0.6666666666666666,\"#ed7953\"],[0.7777777777777778,\"#fb9f3a\"],[0.8888888888888888,\"#fdca26\"],[1.0,\"#f0f921\"]]}],\"mesh3d\":[{\"type\":\"mesh3d\",\"colorbar\":{\"outlinewidth\":0,\"ticks\":\"\"}}],\"scatter\":[{\"fillpattern\":{\"fillmode\":\"overlay\",\"size\":10,\"solidity\":0.2},\"type\":\"scatter\"}],\"parcoords\":[{\"type\":\"parcoords\",\"line\":{\"colorbar\":{\"outlinewidth\":0,\"ticks\":\"\"}}}],\"scatterpolargl\":[{\"type\":\"scatterpolargl\",\"marker\":{\"colorbar\":{\"outlinewidth\":0,\"ticks\":\"\"}}}],\"bar\":[{\"error_x\":{\"color\":\"#2a3f5f\"},\"error_y\":{\"color\":\"#2a3f5f\"},\"marker\":{\"line\":{\"color\":\"#E5ECF6\",\"width\":0.5},\"pattern\":{\"fillmode\":\"overlay\",\"size\":10,\"solidity\":0.2}},\"type\":\"bar\"}],\"scattergeo\":[{\"type\":\"scattergeo\",\"marker\":{\"colorbar\":{\"outlinewidth\":0,\"ticks\":\"\"}}}],\"scatterpolar\":[{\"type\":\"scatterpolar\",\"marker\":{\"colorbar\":{\"outlinewidth\":0,\"ticks\":\"\"}}}],\"histogram\":[{\"marker\":{\"pattern\":{\"fillmode\":\"overlay\",\"size\":10,\"solidity\":0.2}},\"type\":\"histogram\"}],\"scattergl\":[{\"type\":\"scattergl\",\"marker\":{\"colorbar\":{\"outlinewidth\":0,\"ticks\":\"\"}}}],\"scatter3d\":[{\"type\":\"scatter3d\",\"line\":{\"colorbar\":{\"outlinewidth\":0,\"ticks\":\"\"}},\"marker\":{\"colorbar\":{\"outlinewidth\":0,\"ticks\":\"\"}}}],\"scattermapbox\":[{\"type\":\"scattermapbox\",\"marker\":{\"colorbar\":{\"outlinewidth\":0,\"ticks\":\"\"}}}],\"scatterternary\":[{\"type\":\"scatterternary\",\"marker\":{\"colorbar\":{\"outlinewidth\":0,\"ticks\":\"\"}}}],\"scattercarpet\":[{\"type\":\"scattercarpet\",\"marker\":{\"colorbar\":{\"outlinewidth\":0,\"ticks\":\"\"}}}],\"carpet\":[{\"aaxis\":{\"endlinecolor\":\"#2a3f5f\",\"gridcolor\":\"white\",\"linecolor\":\"white\",\"minorgridcolor\":\"white\",\"startlinecolor\":\"#2a3f5f\"},\"baxis\":{\"endlinecolor\":\"#2a3f5f\",\"gridcolor\":\"white\",\"linecolor\":\"white\",\"minorgridcolor\":\"white\",\"startlinecolor\":\"#2a3f5f\"},\"type\":\"carpet\"}],\"table\":[{\"cells\":{\"fill\":{\"color\":\"#EBF0F8\"},\"line\":{\"color\":\"white\"}},\"header\":{\"fill\":{\"color\":\"#C8D4E3\"},\"line\":{\"color\":\"white\"}},\"type\":\"table\"}],\"barpolar\":[{\"marker\":{\"line\":{\"color\":\"#E5ECF6\",\"width\":0.5},\"pattern\":{\"fillmode\":\"overlay\",\"size\":10,\"solidity\":0.2}},\"type\":\"barpolar\"}],\"pie\":[{\"automargin\":true,\"type\":\"pie\"}]},\"layout\":{\"autotypenumbers\":\"strict\",\"colorway\":[\"#636efa\",\"#EF553B\",\"#00cc96\",\"#ab63fa\",\"#FFA15A\",\"#19d3f3\",\"#FF6692\",\"#B6E880\",\"#FF97FF\",\"#FECB52\"],\"font\":{\"color\":\"#2a3f5f\"},\"hovermode\":\"closest\",\"hoverlabel\":{\"align\":\"left\"},\"paper_bgcolor\":\"white\",\"plot_bgcolor\":\"#E5ECF6\",\"polar\":{\"bgcolor\":\"#E5ECF6\",\"angularaxis\":{\"gridcolor\":\"white\",\"linecolor\":\"white\",\"ticks\":\"\"},\"radialaxis\":{\"gridcolor\":\"white\",\"linecolor\":\"white\",\"ticks\":\"\"}},\"ternary\":{\"bgcolor\":\"#E5ECF6\",\"aaxis\":{\"gridcolor\":\"white\",\"linecolor\":\"white\",\"ticks\":\"\"},\"baxis\":{\"gridcolor\":\"white\",\"linecolor\":\"white\",\"ticks\":\"\"},\"caxis\":{\"gridcolor\":\"white\",\"linecolor\":\"white\",\"ticks\":\"\"}},\"coloraxis\":{\"colorbar\":{\"outlinewidth\":0,\"ticks\":\"\"}},\"colorscale\":{\"sequential\":[[0.0,\"#0d0887\"],[0.1111111111111111,\"#46039f\"],[0.2222222222222222,\"#7201a8\"],[0.3333333333333333,\"#9c179e\"],[0.4444444444444444,\"#bd3786\"],[0.5555555555555556,\"#d8576b\"],[0.6666666666666666,\"#ed7953\"],[0.7777777777777778,\"#fb9f3a\"],[0.8888888888888888,\"#fdca26\"],[1.0,\"#f0f921\"]],\"sequentialminus\":[[0.0,\"#0d0887\"],[0.1111111111111111,\"#46039f\"],[0.2222222222222222,\"#7201a8\"],[0.3333333333333333,\"#9c179e\"],[0.4444444444444444,\"#bd3786\"],[0.5555555555555556,\"#d8576b\"],[0.6666666666666666,\"#ed7953\"],[0.7777777777777778,\"#fb9f3a\"],[0.8888888888888888,\"#fdca26\"],[1.0,\"#f0f921\"]],\"diverging\":[[0,\"#8e0152\"],[0.1,\"#c51b7d\"],[0.2,\"#de77ae\"],[0.3,\"#f1b6da\"],[0.4,\"#fde0ef\"],[0.5,\"#f7f7f7\"],[0.6,\"#e6f5d0\"],[0.7,\"#b8e186\"],[0.8,\"#7fbc41\"],[0.9,\"#4d9221\"],[1,\"#276419\"]]},\"xaxis\":{\"gridcolor\":\"white\",\"linecolor\":\"white\",\"ticks\":\"\",\"title\":{\"standoff\":15},\"zerolinecolor\":\"white\",\"automargin\":true,\"zerolinewidth\":2},\"yaxis\":{\"gridcolor\":\"white\",\"linecolor\":\"white\",\"ticks\":\"\",\"title\":{\"standoff\":15},\"zerolinecolor\":\"white\",\"automargin\":true,\"zerolinewidth\":2},\"scene\":{\"xaxis\":{\"backgroundcolor\":\"#E5ECF6\",\"gridcolor\":\"white\",\"linecolor\":\"white\",\"showbackground\":true,\"ticks\":\"\",\"zerolinecolor\":\"white\",\"gridwidth\":2},\"yaxis\":{\"backgroundcolor\":\"#E5ECF6\",\"gridcolor\":\"white\",\"linecolor\":\"white\",\"showbackground\":true,\"ticks\":\"\",\"zerolinecolor\":\"white\",\"gridwidth\":2},\"zaxis\":{\"backgroundcolor\":\"#E5ECF6\",\"gridcolor\":\"white\",\"linecolor\":\"white\",\"showbackground\":true,\"ticks\":\"\",\"zerolinecolor\":\"white\",\"gridwidth\":2}},\"shapedefaults\":{\"line\":{\"color\":\"#2a3f5f\"}},\"annotationdefaults\":{\"arrowcolor\":\"#2a3f5f\",\"arrowhead\":0,\"arrowwidth\":1},\"geo\":{\"bgcolor\":\"white\",\"landcolor\":\"#E5ECF6\",\"subunitcolor\":\"white\",\"showland\":true,\"showlakes\":true,\"lakecolor\":\"white\"},\"title\":{\"x\":0.05},\"mapbox\":{\"style\":\"light\"}}},\"xaxis\":{\"anchor\":\"y\",\"domain\":[0.0,1.0],\"title\":{\"text\":\"Visibility in miles\"}},\"yaxis\":{\"anchor\":\"x\",\"domain\":[0.0,1.0],\"title\":{\"text\":\"Average Departure Delay (min)\"}},\"legend\":{\"tracegroupgap\":0},\"title\":{\"text\":\"Average Departure Delay (min) per Visibility Index\"},\"shapes\":[{\"line\":{\"color\":\"gray\",\"dash\":\"dash\"},\"type\":\"line\",\"x0\":0,\"x1\":1,\"xref\":\"x domain\",\"y0\":12.329263367935958,\"y1\":12.329263367935958,\"yref\":\"y\"}],\"annotations\":[{\"showarrow\":false,\"text\":\"Overall Avg\",\"x\":1,\"xanchor\":\"right\",\"xref\":\"x domain\",\"y\":12.329263367935958,\"yanchor\":\"bottom\",\"yref\":\"y\"}]},                        {\"responsive\": true}                    ).then(function(){\n",
       "                            \n",
       "var gd = document.getElementById('7d63426e-c3a5-4627-a49f-a5b3db641a44');\n",
       "var x = new MutationObserver(function (mutations, observer) {{\n",
       "        var display = window.getComputedStyle(gd).display;\n",
       "        if (!display || display === 'none') {{\n",
       "            console.log([gd, 'removed!']);\n",
       "            Plotly.purge(gd);\n",
       "            observer.disconnect();\n",
       "        }}\n",
       "}});\n",
       "\n",
       "// Listen for the removal of the full notebook cells\n",
       "var notebookContainer = gd.closest('#notebook-container');\n",
       "if (notebookContainer) {{\n",
       "    x.observe(notebookContainer, {childList: true});\n",
       "}}\n",
       "\n",
       "// Listen for the clearing of the current output cell\n",
       "var outputEl = gd.closest('.output');\n",
       "if (outputEl) {{\n",
       "    x.observe(outputEl, {childList: true});\n",
       "}}\n",
       "\n",
       "                        })                };                });            </script>        </div>"
      ]
     },
     "metadata": {},
     "output_type": "display_data"
    }
   ],
   "source": [
    "avgDepDelay_visib1 = avgDepDelay_visib[~pd.isna(avgDepDelay_visib['visibility'])]\n",
    "fig = px.line(avgDepDelay_visib1, x='visibility', y='avg_dep_delay', markers=True, \n",
    "             title = 'Average Departure Delay (min) per Visibility Index', \n",
    "             labels = {\n",
    "                 'visibility': 'Visibility in miles', \n",
    "                 'avg_dep_delay': 'Average Departure Delay (min)'})\n",
    "\n",
    "avgDep = pd.read_sql_query('SELECT avg(dep_delay) as avg FROM flights', conn)\n",
    "avgDep1 = avgDep['avg'][0]\n",
    "fig.add_hline(y=avgDep1, line_dash=\"dash\", line_color=\"gray\", \n",
    "             annotation_text=\"Overall Avg\")\n",
    "\n",
    "fig.show()"
   ]
  },
  {
   "cell_type": "markdown",
   "id": "93725e64",
   "metadata": {},
   "source": [
    "### Average departure delay vs wind speed (mph)"
   ]
  },
  {
   "cell_type": "code",
   "execution_count": 29,
   "id": "07a2441b",
   "metadata": {
    "scrolled": true
   },
   "outputs": [
    {
     "data": {
      "text/html": [
       "<div>\n",
       "<style scoped>\n",
       "    .dataframe tbody tr th:only-of-type {\n",
       "        vertical-align: middle;\n",
       "    }\n",
       "\n",
       "    .dataframe tbody tr th {\n",
       "        vertical-align: top;\n",
       "    }\n",
       "\n",
       "    .dataframe thead th {\n",
       "        text-align: right;\n",
       "    }\n",
       "</style>\n",
       "<table border=\"1\" class=\"dataframe\">\n",
       "  <thead>\n",
       "    <tr style=\"text-align: right;\">\n",
       "      <th></th>\n",
       "      <th>wind_speed_cat</th>\n",
       "      <th>avg_dep_delay</th>\n",
       "      <th>countFlights</th>\n",
       "    </tr>\n",
       "  </thead>\n",
       "  <tbody>\n",
       "    <tr>\n",
       "      <th>0</th>\n",
       "      <td>NaN</td>\n",
       "      <td>13.185090</td>\n",
       "      <td>1556</td>\n",
       "    </tr>\n",
       "    <tr>\n",
       "      <th>1</th>\n",
       "      <td>0.0</td>\n",
       "      <td>9.803059</td>\n",
       "      <td>11963</td>\n",
       "    </tr>\n",
       "    <tr>\n",
       "      <th>2</th>\n",
       "      <td>5.0</td>\n",
       "      <td>10.141716</td>\n",
       "      <td>77867</td>\n",
       "    </tr>\n",
       "    <tr>\n",
       "      <th>3</th>\n",
       "      <td>10.0</td>\n",
       "      <td>11.898753</td>\n",
       "      <td>114453</td>\n",
       "    </tr>\n",
       "    <tr>\n",
       "      <th>4</th>\n",
       "      <td>15.0</td>\n",
       "      <td>13.834633</td>\n",
       "      <td>92443</td>\n",
       "    </tr>\n",
       "    <tr>\n",
       "      <th>5</th>\n",
       "      <td>20.0</td>\n",
       "      <td>14.266667</td>\n",
       "      <td>27345</td>\n",
       "    </tr>\n",
       "    <tr>\n",
       "      <th>6</th>\n",
       "      <td>25.0</td>\n",
       "      <td>16.790280</td>\n",
       "      <td>7963</td>\n",
       "    </tr>\n",
       "    <tr>\n",
       "      <th>7</th>\n",
       "      <td>30.0</td>\n",
       "      <td>17.909930</td>\n",
       "      <td>2709</td>\n",
       "    </tr>\n",
       "    <tr>\n",
       "      <th>8</th>\n",
       "      <td>35.0</td>\n",
       "      <td>25.977444</td>\n",
       "      <td>399</td>\n",
       "    </tr>\n",
       "    <tr>\n",
       "      <th>9</th>\n",
       "      <td>40.0</td>\n",
       "      <td>18.595745</td>\n",
       "      <td>47</td>\n",
       "    </tr>\n",
       "    <tr>\n",
       "      <th>10</th>\n",
       "      <td>45.0</td>\n",
       "      <td>11.677419</td>\n",
       "      <td>31</td>\n",
       "    </tr>\n",
       "  </tbody>\n",
       "</table>\n",
       "</div>"
      ],
      "text/plain": [
       "    wind_speed_cat  avg_dep_delay  countFlights\n",
       "0              NaN      13.185090          1556\n",
       "1              0.0       9.803059         11963\n",
       "2              5.0      10.141716         77867\n",
       "3             10.0      11.898753        114453\n",
       "4             15.0      13.834633         92443\n",
       "5             20.0      14.266667         27345\n",
       "6             25.0      16.790280          7963\n",
       "7             30.0      17.909930          2709\n",
       "8             35.0      25.977444           399\n",
       "9             40.0      18.595745            47\n",
       "10            45.0      11.677419            31"
      ]
     },
     "execution_count": 29,
     "metadata": {},
     "output_type": "execute_result"
    }
   ],
   "source": [
    "# avgDepDelay (min) vs wind_speed (mph)\n",
    "q = '''\n",
    "SELECT  round(w.wind_speed / 5, 0) * 5 as wind_speed_cat,\n",
    "        avg(dep_delay) as avg_dep_delay, \n",
    "        count(*) as countFlights\n",
    "FROM flights as f\n",
    "LEFT JOIN weather as w\n",
    "ON f.time_hour = w.time_hour and f.origin = w.origin \n",
    "GROUP BY wind_speed_cat\n",
    "ORDER BY wind_speed_cat\n",
    "'''\n",
    "avgDepDelay_windSpeed = pd.read_sql_query(q, conn)\n",
    "avgDepDelay_windSpeed"
   ]
  },
  {
   "cell_type": "markdown",
   "id": "4b18ca74",
   "metadata": {},
   "source": [
    "- Departure delay increases as wind speed gets higher in most cases, but the delay time declines in a tiny portion of extreme cases when wind speed exceeds ~37.5 mph."
   ]
  },
  {
   "cell_type": "code",
   "execution_count": 31,
   "id": "450d4546",
   "metadata": {
    "scrolled": false
   },
   "outputs": [
    {
     "data": {
      "application/vnd.plotly.v1+json": {
       "config": {
        "plotlyServerURL": "https://plot.ly"
       },
       "data": [
        {
         "hovertemplate": "Wind Speed (mph)=%{x}<br>Average Departure Delay (min)=%{y}<extra></extra>",
         "legendgroup": "",
         "line": {
          "color": "#636efa",
          "dash": "solid"
         },
         "marker": {
          "symbol": "circle"
         },
         "mode": "lines+markers",
         "name": "",
         "orientation": "v",
         "showlegend": false,
         "type": "scatter",
         "x": [
          0,
          5,
          10,
          15,
          20,
          25,
          30,
          35,
          40,
          45
         ],
         "xaxis": "x",
         "y": [
          9.803059433252528,
          10.141716002928069,
          11.898753200003496,
          13.834633233451965,
          14.266666666666667,
          16.79028004520909,
          17.909929863418235,
          25.977443609022558,
          18.595744680851062,
          11.67741935483871
         ],
         "yaxis": "y"
        }
       ],
       "layout": {
        "annotations": [
         {
          "showarrow": false,
          "text": "Overall Avg",
          "x": 1,
          "xanchor": "right",
          "xref": "x domain",
          "y": 12.329263367935958,
          "yanchor": "bottom",
          "yref": "y"
         }
        ],
        "legend": {
         "tracegroupgap": 0
        },
        "shapes": [
         {
          "line": {
           "color": "gray",
           "dash": "dash"
          },
          "type": "line",
          "x0": 0,
          "x1": 1,
          "xref": "x domain",
          "y0": 12.329263367935958,
          "y1": 12.329263367935958,
          "yref": "y"
         }
        ],
        "template": {
         "data": {
          "bar": [
           {
            "error_x": {
             "color": "#2a3f5f"
            },
            "error_y": {
             "color": "#2a3f5f"
            },
            "marker": {
             "line": {
              "color": "#E5ECF6",
              "width": 0.5
             },
             "pattern": {
              "fillmode": "overlay",
              "size": 10,
              "solidity": 0.2
             }
            },
            "type": "bar"
           }
          ],
          "barpolar": [
           {
            "marker": {
             "line": {
              "color": "#E5ECF6",
              "width": 0.5
             },
             "pattern": {
              "fillmode": "overlay",
              "size": 10,
              "solidity": 0.2
             }
            },
            "type": "barpolar"
           }
          ],
          "carpet": [
           {
            "aaxis": {
             "endlinecolor": "#2a3f5f",
             "gridcolor": "white",
             "linecolor": "white",
             "minorgridcolor": "white",
             "startlinecolor": "#2a3f5f"
            },
            "baxis": {
             "endlinecolor": "#2a3f5f",
             "gridcolor": "white",
             "linecolor": "white",
             "minorgridcolor": "white",
             "startlinecolor": "#2a3f5f"
            },
            "type": "carpet"
           }
          ],
          "choropleth": [
           {
            "colorbar": {
             "outlinewidth": 0,
             "ticks": ""
            },
            "type": "choropleth"
           }
          ],
          "contour": [
           {
            "colorbar": {
             "outlinewidth": 0,
             "ticks": ""
            },
            "colorscale": [
             [
              0,
              "#0d0887"
             ],
             [
              0.1111111111111111,
              "#46039f"
             ],
             [
              0.2222222222222222,
              "#7201a8"
             ],
             [
              0.3333333333333333,
              "#9c179e"
             ],
             [
              0.4444444444444444,
              "#bd3786"
             ],
             [
              0.5555555555555556,
              "#d8576b"
             ],
             [
              0.6666666666666666,
              "#ed7953"
             ],
             [
              0.7777777777777778,
              "#fb9f3a"
             ],
             [
              0.8888888888888888,
              "#fdca26"
             ],
             [
              1,
              "#f0f921"
             ]
            ],
            "type": "contour"
           }
          ],
          "contourcarpet": [
           {
            "colorbar": {
             "outlinewidth": 0,
             "ticks": ""
            },
            "type": "contourcarpet"
           }
          ],
          "heatmap": [
           {
            "colorbar": {
             "outlinewidth": 0,
             "ticks": ""
            },
            "colorscale": [
             [
              0,
              "#0d0887"
             ],
             [
              0.1111111111111111,
              "#46039f"
             ],
             [
              0.2222222222222222,
              "#7201a8"
             ],
             [
              0.3333333333333333,
              "#9c179e"
             ],
             [
              0.4444444444444444,
              "#bd3786"
             ],
             [
              0.5555555555555556,
              "#d8576b"
             ],
             [
              0.6666666666666666,
              "#ed7953"
             ],
             [
              0.7777777777777778,
              "#fb9f3a"
             ],
             [
              0.8888888888888888,
              "#fdca26"
             ],
             [
              1,
              "#f0f921"
             ]
            ],
            "type": "heatmap"
           }
          ],
          "heatmapgl": [
           {
            "colorbar": {
             "outlinewidth": 0,
             "ticks": ""
            },
            "colorscale": [
             [
              0,
              "#0d0887"
             ],
             [
              0.1111111111111111,
              "#46039f"
             ],
             [
              0.2222222222222222,
              "#7201a8"
             ],
             [
              0.3333333333333333,
              "#9c179e"
             ],
             [
              0.4444444444444444,
              "#bd3786"
             ],
             [
              0.5555555555555556,
              "#d8576b"
             ],
             [
              0.6666666666666666,
              "#ed7953"
             ],
             [
              0.7777777777777778,
              "#fb9f3a"
             ],
             [
              0.8888888888888888,
              "#fdca26"
             ],
             [
              1,
              "#f0f921"
             ]
            ],
            "type": "heatmapgl"
           }
          ],
          "histogram": [
           {
            "marker": {
             "pattern": {
              "fillmode": "overlay",
              "size": 10,
              "solidity": 0.2
             }
            },
            "type": "histogram"
           }
          ],
          "histogram2d": [
           {
            "colorbar": {
             "outlinewidth": 0,
             "ticks": ""
            },
            "colorscale": [
             [
              0,
              "#0d0887"
             ],
             [
              0.1111111111111111,
              "#46039f"
             ],
             [
              0.2222222222222222,
              "#7201a8"
             ],
             [
              0.3333333333333333,
              "#9c179e"
             ],
             [
              0.4444444444444444,
              "#bd3786"
             ],
             [
              0.5555555555555556,
              "#d8576b"
             ],
             [
              0.6666666666666666,
              "#ed7953"
             ],
             [
              0.7777777777777778,
              "#fb9f3a"
             ],
             [
              0.8888888888888888,
              "#fdca26"
             ],
             [
              1,
              "#f0f921"
             ]
            ],
            "type": "histogram2d"
           }
          ],
          "histogram2dcontour": [
           {
            "colorbar": {
             "outlinewidth": 0,
             "ticks": ""
            },
            "colorscale": [
             [
              0,
              "#0d0887"
             ],
             [
              0.1111111111111111,
              "#46039f"
             ],
             [
              0.2222222222222222,
              "#7201a8"
             ],
             [
              0.3333333333333333,
              "#9c179e"
             ],
             [
              0.4444444444444444,
              "#bd3786"
             ],
             [
              0.5555555555555556,
              "#d8576b"
             ],
             [
              0.6666666666666666,
              "#ed7953"
             ],
             [
              0.7777777777777778,
              "#fb9f3a"
             ],
             [
              0.8888888888888888,
              "#fdca26"
             ],
             [
              1,
              "#f0f921"
             ]
            ],
            "type": "histogram2dcontour"
           }
          ],
          "mesh3d": [
           {
            "colorbar": {
             "outlinewidth": 0,
             "ticks": ""
            },
            "type": "mesh3d"
           }
          ],
          "parcoords": [
           {
            "line": {
             "colorbar": {
              "outlinewidth": 0,
              "ticks": ""
             }
            },
            "type": "parcoords"
           }
          ],
          "pie": [
           {
            "automargin": true,
            "type": "pie"
           }
          ],
          "scatter": [
           {
            "fillpattern": {
             "fillmode": "overlay",
             "size": 10,
             "solidity": 0.2
            },
            "type": "scatter"
           }
          ],
          "scatter3d": [
           {
            "line": {
             "colorbar": {
              "outlinewidth": 0,
              "ticks": ""
             }
            },
            "marker": {
             "colorbar": {
              "outlinewidth": 0,
              "ticks": ""
             }
            },
            "type": "scatter3d"
           }
          ],
          "scattercarpet": [
           {
            "marker": {
             "colorbar": {
              "outlinewidth": 0,
              "ticks": ""
             }
            },
            "type": "scattercarpet"
           }
          ],
          "scattergeo": [
           {
            "marker": {
             "colorbar": {
              "outlinewidth": 0,
              "ticks": ""
             }
            },
            "type": "scattergeo"
           }
          ],
          "scattergl": [
           {
            "marker": {
             "colorbar": {
              "outlinewidth": 0,
              "ticks": ""
             }
            },
            "type": "scattergl"
           }
          ],
          "scattermapbox": [
           {
            "marker": {
             "colorbar": {
              "outlinewidth": 0,
              "ticks": ""
             }
            },
            "type": "scattermapbox"
           }
          ],
          "scatterpolar": [
           {
            "marker": {
             "colorbar": {
              "outlinewidth": 0,
              "ticks": ""
             }
            },
            "type": "scatterpolar"
           }
          ],
          "scatterpolargl": [
           {
            "marker": {
             "colorbar": {
              "outlinewidth": 0,
              "ticks": ""
             }
            },
            "type": "scatterpolargl"
           }
          ],
          "scatterternary": [
           {
            "marker": {
             "colorbar": {
              "outlinewidth": 0,
              "ticks": ""
             }
            },
            "type": "scatterternary"
           }
          ],
          "surface": [
           {
            "colorbar": {
             "outlinewidth": 0,
             "ticks": ""
            },
            "colorscale": [
             [
              0,
              "#0d0887"
             ],
             [
              0.1111111111111111,
              "#46039f"
             ],
             [
              0.2222222222222222,
              "#7201a8"
             ],
             [
              0.3333333333333333,
              "#9c179e"
             ],
             [
              0.4444444444444444,
              "#bd3786"
             ],
             [
              0.5555555555555556,
              "#d8576b"
             ],
             [
              0.6666666666666666,
              "#ed7953"
             ],
             [
              0.7777777777777778,
              "#fb9f3a"
             ],
             [
              0.8888888888888888,
              "#fdca26"
             ],
             [
              1,
              "#f0f921"
             ]
            ],
            "type": "surface"
           }
          ],
          "table": [
           {
            "cells": {
             "fill": {
              "color": "#EBF0F8"
             },
             "line": {
              "color": "white"
             }
            },
            "header": {
             "fill": {
              "color": "#C8D4E3"
             },
             "line": {
              "color": "white"
             }
            },
            "type": "table"
           }
          ]
         },
         "layout": {
          "annotationdefaults": {
           "arrowcolor": "#2a3f5f",
           "arrowhead": 0,
           "arrowwidth": 1
          },
          "autotypenumbers": "strict",
          "coloraxis": {
           "colorbar": {
            "outlinewidth": 0,
            "ticks": ""
           }
          },
          "colorscale": {
           "diverging": [
            [
             0,
             "#8e0152"
            ],
            [
             0.1,
             "#c51b7d"
            ],
            [
             0.2,
             "#de77ae"
            ],
            [
             0.3,
             "#f1b6da"
            ],
            [
             0.4,
             "#fde0ef"
            ],
            [
             0.5,
             "#f7f7f7"
            ],
            [
             0.6,
             "#e6f5d0"
            ],
            [
             0.7,
             "#b8e186"
            ],
            [
             0.8,
             "#7fbc41"
            ],
            [
             0.9,
             "#4d9221"
            ],
            [
             1,
             "#276419"
            ]
           ],
           "sequential": [
            [
             0,
             "#0d0887"
            ],
            [
             0.1111111111111111,
             "#46039f"
            ],
            [
             0.2222222222222222,
             "#7201a8"
            ],
            [
             0.3333333333333333,
             "#9c179e"
            ],
            [
             0.4444444444444444,
             "#bd3786"
            ],
            [
             0.5555555555555556,
             "#d8576b"
            ],
            [
             0.6666666666666666,
             "#ed7953"
            ],
            [
             0.7777777777777778,
             "#fb9f3a"
            ],
            [
             0.8888888888888888,
             "#fdca26"
            ],
            [
             1,
             "#f0f921"
            ]
           ],
           "sequentialminus": [
            [
             0,
             "#0d0887"
            ],
            [
             0.1111111111111111,
             "#46039f"
            ],
            [
             0.2222222222222222,
             "#7201a8"
            ],
            [
             0.3333333333333333,
             "#9c179e"
            ],
            [
             0.4444444444444444,
             "#bd3786"
            ],
            [
             0.5555555555555556,
             "#d8576b"
            ],
            [
             0.6666666666666666,
             "#ed7953"
            ],
            [
             0.7777777777777778,
             "#fb9f3a"
            ],
            [
             0.8888888888888888,
             "#fdca26"
            ],
            [
             1,
             "#f0f921"
            ]
           ]
          },
          "colorway": [
           "#636efa",
           "#EF553B",
           "#00cc96",
           "#ab63fa",
           "#FFA15A",
           "#19d3f3",
           "#FF6692",
           "#B6E880",
           "#FF97FF",
           "#FECB52"
          ],
          "font": {
           "color": "#2a3f5f"
          },
          "geo": {
           "bgcolor": "white",
           "lakecolor": "white",
           "landcolor": "#E5ECF6",
           "showlakes": true,
           "showland": true,
           "subunitcolor": "white"
          },
          "hoverlabel": {
           "align": "left"
          },
          "hovermode": "closest",
          "mapbox": {
           "style": "light"
          },
          "paper_bgcolor": "white",
          "plot_bgcolor": "#E5ECF6",
          "polar": {
           "angularaxis": {
            "gridcolor": "white",
            "linecolor": "white",
            "ticks": ""
           },
           "bgcolor": "#E5ECF6",
           "radialaxis": {
            "gridcolor": "white",
            "linecolor": "white",
            "ticks": ""
           }
          },
          "scene": {
           "xaxis": {
            "backgroundcolor": "#E5ECF6",
            "gridcolor": "white",
            "gridwidth": 2,
            "linecolor": "white",
            "showbackground": true,
            "ticks": "",
            "zerolinecolor": "white"
           },
           "yaxis": {
            "backgroundcolor": "#E5ECF6",
            "gridcolor": "white",
            "gridwidth": 2,
            "linecolor": "white",
            "showbackground": true,
            "ticks": "",
            "zerolinecolor": "white"
           },
           "zaxis": {
            "backgroundcolor": "#E5ECF6",
            "gridcolor": "white",
            "gridwidth": 2,
            "linecolor": "white",
            "showbackground": true,
            "ticks": "",
            "zerolinecolor": "white"
           }
          },
          "shapedefaults": {
           "line": {
            "color": "#2a3f5f"
           }
          },
          "ternary": {
           "aaxis": {
            "gridcolor": "white",
            "linecolor": "white",
            "ticks": ""
           },
           "baxis": {
            "gridcolor": "white",
            "linecolor": "white",
            "ticks": ""
           },
           "bgcolor": "#E5ECF6",
           "caxis": {
            "gridcolor": "white",
            "linecolor": "white",
            "ticks": ""
           }
          },
          "title": {
           "x": 0.05
          },
          "xaxis": {
           "automargin": true,
           "gridcolor": "white",
           "linecolor": "white",
           "ticks": "",
           "title": {
            "standoff": 15
           },
           "zerolinecolor": "white",
           "zerolinewidth": 2
          },
          "yaxis": {
           "automargin": true,
           "gridcolor": "white",
           "linecolor": "white",
           "ticks": "",
           "title": {
            "standoff": 15
           },
           "zerolinecolor": "white",
           "zerolinewidth": 2
          }
         }
        },
        "title": {
         "text": "Average Departure Delay (min) per Wind Speed"
        },
        "xaxis": {
         "anchor": "y",
         "domain": [
          0,
          1
         ],
         "title": {
          "text": "Wind Speed (mph)"
         }
        },
        "yaxis": {
         "anchor": "x",
         "domain": [
          0,
          1
         ],
         "title": {
          "text": "Average Departure Delay (min)"
         }
        }
       }
      },
      "text/html": [
       "<div>                            <div id=\"f4dace96-ccb3-4107-8b40-9620f5dadcca\" class=\"plotly-graph-div\" style=\"height:525px; width:100%;\"></div>            <script type=\"text/javascript\">                require([\"plotly\"], function(Plotly) {                    window.PLOTLYENV=window.PLOTLYENV || {};                                    if (document.getElementById(\"f4dace96-ccb3-4107-8b40-9620f5dadcca\")) {                    Plotly.newPlot(                        \"f4dace96-ccb3-4107-8b40-9620f5dadcca\",                        [{\"hovertemplate\":\"Wind Speed (mph)=%{x}<br>Average Departure Delay (min)=%{y}<extra></extra>\",\"legendgroup\":\"\",\"line\":{\"color\":\"#636efa\",\"dash\":\"solid\"},\"marker\":{\"symbol\":\"circle\"},\"mode\":\"lines+markers\",\"name\":\"\",\"orientation\":\"v\",\"showlegend\":false,\"x\":[0.0,5.0,10.0,15.0,20.0,25.0,30.0,35.0,40.0,45.0],\"xaxis\":\"x\",\"y\":[9.803059433252528,10.141716002928069,11.898753200003496,13.834633233451965,14.266666666666667,16.79028004520909,17.909929863418235,25.977443609022558,18.595744680851062,11.67741935483871],\"yaxis\":\"y\",\"type\":\"scatter\"}],                        {\"template\":{\"data\":{\"histogram2dcontour\":[{\"type\":\"histogram2dcontour\",\"colorbar\":{\"outlinewidth\":0,\"ticks\":\"\"},\"colorscale\":[[0.0,\"#0d0887\"],[0.1111111111111111,\"#46039f\"],[0.2222222222222222,\"#7201a8\"],[0.3333333333333333,\"#9c179e\"],[0.4444444444444444,\"#bd3786\"],[0.5555555555555556,\"#d8576b\"],[0.6666666666666666,\"#ed7953\"],[0.7777777777777778,\"#fb9f3a\"],[0.8888888888888888,\"#fdca26\"],[1.0,\"#f0f921\"]]}],\"choropleth\":[{\"type\":\"choropleth\",\"colorbar\":{\"outlinewidth\":0,\"ticks\":\"\"}}],\"histogram2d\":[{\"type\":\"histogram2d\",\"colorbar\":{\"outlinewidth\":0,\"ticks\":\"\"},\"colorscale\":[[0.0,\"#0d0887\"],[0.1111111111111111,\"#46039f\"],[0.2222222222222222,\"#7201a8\"],[0.3333333333333333,\"#9c179e\"],[0.4444444444444444,\"#bd3786\"],[0.5555555555555556,\"#d8576b\"],[0.6666666666666666,\"#ed7953\"],[0.7777777777777778,\"#fb9f3a\"],[0.8888888888888888,\"#fdca26\"],[1.0,\"#f0f921\"]]}],\"heatmap\":[{\"type\":\"heatmap\",\"colorbar\":{\"outlinewidth\":0,\"ticks\":\"\"},\"colorscale\":[[0.0,\"#0d0887\"],[0.1111111111111111,\"#46039f\"],[0.2222222222222222,\"#7201a8\"],[0.3333333333333333,\"#9c179e\"],[0.4444444444444444,\"#bd3786\"],[0.5555555555555556,\"#d8576b\"],[0.6666666666666666,\"#ed7953\"],[0.7777777777777778,\"#fb9f3a\"],[0.8888888888888888,\"#fdca26\"],[1.0,\"#f0f921\"]]}],\"heatmapgl\":[{\"type\":\"heatmapgl\",\"colorbar\":{\"outlinewidth\":0,\"ticks\":\"\"},\"colorscale\":[[0.0,\"#0d0887\"],[0.1111111111111111,\"#46039f\"],[0.2222222222222222,\"#7201a8\"],[0.3333333333333333,\"#9c179e\"],[0.4444444444444444,\"#bd3786\"],[0.5555555555555556,\"#d8576b\"],[0.6666666666666666,\"#ed7953\"],[0.7777777777777778,\"#fb9f3a\"],[0.8888888888888888,\"#fdca26\"],[1.0,\"#f0f921\"]]}],\"contourcarpet\":[{\"type\":\"contourcarpet\",\"colorbar\":{\"outlinewidth\":0,\"ticks\":\"\"}}],\"contour\":[{\"type\":\"contour\",\"colorbar\":{\"outlinewidth\":0,\"ticks\":\"\"},\"colorscale\":[[0.0,\"#0d0887\"],[0.1111111111111111,\"#46039f\"],[0.2222222222222222,\"#7201a8\"],[0.3333333333333333,\"#9c179e\"],[0.4444444444444444,\"#bd3786\"],[0.5555555555555556,\"#d8576b\"],[0.6666666666666666,\"#ed7953\"],[0.7777777777777778,\"#fb9f3a\"],[0.8888888888888888,\"#fdca26\"],[1.0,\"#f0f921\"]]}],\"surface\":[{\"type\":\"surface\",\"colorbar\":{\"outlinewidth\":0,\"ticks\":\"\"},\"colorscale\":[[0.0,\"#0d0887\"],[0.1111111111111111,\"#46039f\"],[0.2222222222222222,\"#7201a8\"],[0.3333333333333333,\"#9c179e\"],[0.4444444444444444,\"#bd3786\"],[0.5555555555555556,\"#d8576b\"],[0.6666666666666666,\"#ed7953\"],[0.7777777777777778,\"#fb9f3a\"],[0.8888888888888888,\"#fdca26\"],[1.0,\"#f0f921\"]]}],\"mesh3d\":[{\"type\":\"mesh3d\",\"colorbar\":{\"outlinewidth\":0,\"ticks\":\"\"}}],\"scatter\":[{\"fillpattern\":{\"fillmode\":\"overlay\",\"size\":10,\"solidity\":0.2},\"type\":\"scatter\"}],\"parcoords\":[{\"type\":\"parcoords\",\"line\":{\"colorbar\":{\"outlinewidth\":0,\"ticks\":\"\"}}}],\"scatterpolargl\":[{\"type\":\"scatterpolargl\",\"marker\":{\"colorbar\":{\"outlinewidth\":0,\"ticks\":\"\"}}}],\"bar\":[{\"error_x\":{\"color\":\"#2a3f5f\"},\"error_y\":{\"color\":\"#2a3f5f\"},\"marker\":{\"line\":{\"color\":\"#E5ECF6\",\"width\":0.5},\"pattern\":{\"fillmode\":\"overlay\",\"size\":10,\"solidity\":0.2}},\"type\":\"bar\"}],\"scattergeo\":[{\"type\":\"scattergeo\",\"marker\":{\"colorbar\":{\"outlinewidth\":0,\"ticks\":\"\"}}}],\"scatterpolar\":[{\"type\":\"scatterpolar\",\"marker\":{\"colorbar\":{\"outlinewidth\":0,\"ticks\":\"\"}}}],\"histogram\":[{\"marker\":{\"pattern\":{\"fillmode\":\"overlay\",\"size\":10,\"solidity\":0.2}},\"type\":\"histogram\"}],\"scattergl\":[{\"type\":\"scattergl\",\"marker\":{\"colorbar\":{\"outlinewidth\":0,\"ticks\":\"\"}}}],\"scatter3d\":[{\"type\":\"scatter3d\",\"line\":{\"colorbar\":{\"outlinewidth\":0,\"ticks\":\"\"}},\"marker\":{\"colorbar\":{\"outlinewidth\":0,\"ticks\":\"\"}}}],\"scattermapbox\":[{\"type\":\"scattermapbox\",\"marker\":{\"colorbar\":{\"outlinewidth\":0,\"ticks\":\"\"}}}],\"scatterternary\":[{\"type\":\"scatterternary\",\"marker\":{\"colorbar\":{\"outlinewidth\":0,\"ticks\":\"\"}}}],\"scattercarpet\":[{\"type\":\"scattercarpet\",\"marker\":{\"colorbar\":{\"outlinewidth\":0,\"ticks\":\"\"}}}],\"carpet\":[{\"aaxis\":{\"endlinecolor\":\"#2a3f5f\",\"gridcolor\":\"white\",\"linecolor\":\"white\",\"minorgridcolor\":\"white\",\"startlinecolor\":\"#2a3f5f\"},\"baxis\":{\"endlinecolor\":\"#2a3f5f\",\"gridcolor\":\"white\",\"linecolor\":\"white\",\"minorgridcolor\":\"white\",\"startlinecolor\":\"#2a3f5f\"},\"type\":\"carpet\"}],\"table\":[{\"cells\":{\"fill\":{\"color\":\"#EBF0F8\"},\"line\":{\"color\":\"white\"}},\"header\":{\"fill\":{\"color\":\"#C8D4E3\"},\"line\":{\"color\":\"white\"}},\"type\":\"table\"}],\"barpolar\":[{\"marker\":{\"line\":{\"color\":\"#E5ECF6\",\"width\":0.5},\"pattern\":{\"fillmode\":\"overlay\",\"size\":10,\"solidity\":0.2}},\"type\":\"barpolar\"}],\"pie\":[{\"automargin\":true,\"type\":\"pie\"}]},\"layout\":{\"autotypenumbers\":\"strict\",\"colorway\":[\"#636efa\",\"#EF553B\",\"#00cc96\",\"#ab63fa\",\"#FFA15A\",\"#19d3f3\",\"#FF6692\",\"#B6E880\",\"#FF97FF\",\"#FECB52\"],\"font\":{\"color\":\"#2a3f5f\"},\"hovermode\":\"closest\",\"hoverlabel\":{\"align\":\"left\"},\"paper_bgcolor\":\"white\",\"plot_bgcolor\":\"#E5ECF6\",\"polar\":{\"bgcolor\":\"#E5ECF6\",\"angularaxis\":{\"gridcolor\":\"white\",\"linecolor\":\"white\",\"ticks\":\"\"},\"radialaxis\":{\"gridcolor\":\"white\",\"linecolor\":\"white\",\"ticks\":\"\"}},\"ternary\":{\"bgcolor\":\"#E5ECF6\",\"aaxis\":{\"gridcolor\":\"white\",\"linecolor\":\"white\",\"ticks\":\"\"},\"baxis\":{\"gridcolor\":\"white\",\"linecolor\":\"white\",\"ticks\":\"\"},\"caxis\":{\"gridcolor\":\"white\",\"linecolor\":\"white\",\"ticks\":\"\"}},\"coloraxis\":{\"colorbar\":{\"outlinewidth\":0,\"ticks\":\"\"}},\"colorscale\":{\"sequential\":[[0.0,\"#0d0887\"],[0.1111111111111111,\"#46039f\"],[0.2222222222222222,\"#7201a8\"],[0.3333333333333333,\"#9c179e\"],[0.4444444444444444,\"#bd3786\"],[0.5555555555555556,\"#d8576b\"],[0.6666666666666666,\"#ed7953\"],[0.7777777777777778,\"#fb9f3a\"],[0.8888888888888888,\"#fdca26\"],[1.0,\"#f0f921\"]],\"sequentialminus\":[[0.0,\"#0d0887\"],[0.1111111111111111,\"#46039f\"],[0.2222222222222222,\"#7201a8\"],[0.3333333333333333,\"#9c179e\"],[0.4444444444444444,\"#bd3786\"],[0.5555555555555556,\"#d8576b\"],[0.6666666666666666,\"#ed7953\"],[0.7777777777777778,\"#fb9f3a\"],[0.8888888888888888,\"#fdca26\"],[1.0,\"#f0f921\"]],\"diverging\":[[0,\"#8e0152\"],[0.1,\"#c51b7d\"],[0.2,\"#de77ae\"],[0.3,\"#f1b6da\"],[0.4,\"#fde0ef\"],[0.5,\"#f7f7f7\"],[0.6,\"#e6f5d0\"],[0.7,\"#b8e186\"],[0.8,\"#7fbc41\"],[0.9,\"#4d9221\"],[1,\"#276419\"]]},\"xaxis\":{\"gridcolor\":\"white\",\"linecolor\":\"white\",\"ticks\":\"\",\"title\":{\"standoff\":15},\"zerolinecolor\":\"white\",\"automargin\":true,\"zerolinewidth\":2},\"yaxis\":{\"gridcolor\":\"white\",\"linecolor\":\"white\",\"ticks\":\"\",\"title\":{\"standoff\":15},\"zerolinecolor\":\"white\",\"automargin\":true,\"zerolinewidth\":2},\"scene\":{\"xaxis\":{\"backgroundcolor\":\"#E5ECF6\",\"gridcolor\":\"white\",\"linecolor\":\"white\",\"showbackground\":true,\"ticks\":\"\",\"zerolinecolor\":\"white\",\"gridwidth\":2},\"yaxis\":{\"backgroundcolor\":\"#E5ECF6\",\"gridcolor\":\"white\",\"linecolor\":\"white\",\"showbackground\":true,\"ticks\":\"\",\"zerolinecolor\":\"white\",\"gridwidth\":2},\"zaxis\":{\"backgroundcolor\":\"#E5ECF6\",\"gridcolor\":\"white\",\"linecolor\":\"white\",\"showbackground\":true,\"ticks\":\"\",\"zerolinecolor\":\"white\",\"gridwidth\":2}},\"shapedefaults\":{\"line\":{\"color\":\"#2a3f5f\"}},\"annotationdefaults\":{\"arrowcolor\":\"#2a3f5f\",\"arrowhead\":0,\"arrowwidth\":1},\"geo\":{\"bgcolor\":\"white\",\"landcolor\":\"#E5ECF6\",\"subunitcolor\":\"white\",\"showland\":true,\"showlakes\":true,\"lakecolor\":\"white\"},\"title\":{\"x\":0.05},\"mapbox\":{\"style\":\"light\"}}},\"xaxis\":{\"anchor\":\"y\",\"domain\":[0.0,1.0],\"title\":{\"text\":\"Wind Speed (mph)\"}},\"yaxis\":{\"anchor\":\"x\",\"domain\":[0.0,1.0],\"title\":{\"text\":\"Average Departure Delay (min)\"}},\"legend\":{\"tracegroupgap\":0},\"title\":{\"text\":\"Average Departure Delay (min) per Wind Speed\"},\"shapes\":[{\"line\":{\"color\":\"gray\",\"dash\":\"dash\"},\"type\":\"line\",\"x0\":0,\"x1\":1,\"xref\":\"x domain\",\"y0\":12.329263367935958,\"y1\":12.329263367935958,\"yref\":\"y\"}],\"annotations\":[{\"showarrow\":false,\"text\":\"Overall Avg\",\"x\":1,\"xanchor\":\"right\",\"xref\":\"x domain\",\"y\":12.329263367935958,\"yanchor\":\"bottom\",\"yref\":\"y\"}]},                        {\"responsive\": true}                    ).then(function(){\n",
       "                            \n",
       "var gd = document.getElementById('f4dace96-ccb3-4107-8b40-9620f5dadcca');\n",
       "var x = new MutationObserver(function (mutations, observer) {{\n",
       "        var display = window.getComputedStyle(gd).display;\n",
       "        if (!display || display === 'none') {{\n",
       "            console.log([gd, 'removed!']);\n",
       "            Plotly.purge(gd);\n",
       "            observer.disconnect();\n",
       "        }}\n",
       "}});\n",
       "\n",
       "// Listen for the removal of the full notebook cells\n",
       "var notebookContainer = gd.closest('#notebook-container');\n",
       "if (notebookContainer) {{\n",
       "    x.observe(notebookContainer, {childList: true});\n",
       "}}\n",
       "\n",
       "// Listen for the clearing of the current output cell\n",
       "var outputEl = gd.closest('.output');\n",
       "if (outputEl) {{\n",
       "    x.observe(outputEl, {childList: true});\n",
       "}}\n",
       "\n",
       "                        })                };                });            </script>        </div>"
      ]
     },
     "metadata": {},
     "output_type": "display_data"
    }
   ],
   "source": [
    "avgDepDelay_windSpeed1 = avgDepDelay_windSpeed[~pd.isna(avgDepDelay_windSpeed['wind_speed_cat'])]\n",
    "fig = px.line(avgDepDelay_windSpeed1, x='wind_speed_cat', y='avg_dep_delay', markers=True, \n",
    "             title = 'Average Departure Delay (min) per Wind Speed', \n",
    "             labels = {\n",
    "                 'wind_speed_cat': 'Wind Speed (mph)', \n",
    "                 'avg_dep_delay': 'Average Departure Delay (min)'})\n",
    "\n",
    "avgDep = pd.read_sql_query('SELECT avg(dep_delay) as avg FROM flights', conn)\n",
    "avgDep1 = avgDep['avg'][0]\n",
    "fig.add_hline(y=avgDep1, line_dash=\"dash\", line_color=\"gray\", \n",
    "             annotation_text=\"Overall Avg\")\n",
    "\n",
    "fig.show()"
   ]
  },
  {
   "cell_type": "code",
   "execution_count": 32,
   "id": "a0128b60",
   "metadata": {},
   "outputs": [],
   "source": [
    "conn.close()"
   ]
  }
 ],
 "metadata": {
  "kernelspec": {
   "display_name": "Python 3",
   "language": "python",
   "name": "python3"
  },
  "language_info": {
   "codemirror_mode": {
    "name": "ipython",
    "version": 3
   },
   "file_extension": ".py",
   "mimetype": "text/x-python",
   "name": "python",
   "nbconvert_exporter": "python",
   "pygments_lexer": "ipython3",
   "version": "3.8.8"
  }
 },
 "nbformat": 4,
 "nbformat_minor": 5
}
